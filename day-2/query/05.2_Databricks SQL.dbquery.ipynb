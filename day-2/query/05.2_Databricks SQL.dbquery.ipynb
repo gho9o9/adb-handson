{
 "cells": [
  {
   "cell_type": "code",
   "execution_count": 0,
   "metadata": {
    "application/vnd.databricks.v1+cell": {
     "cellMetadata": {
      "byteLimit": 10485760,
      "rowLimit": 1000
     },
     "inputWidgets": {},
     "nuid": "95c92868-4c18-48db-a2ba-e4fc4e7ba7f1",
     "showTitle": false,
     "tableResultSettingsMap": {},
     "title": ""
    }
   },
   "outputs": [],
   "source": [
    "-- Gold テーブル定義\n",
    "CREATE OR REPLACE TABLE 05_gold_nyctaxi(\n",
    "  pickup_date date, \n",
    "  pickup_borough string,\n",
    "  pickup_zone string,\n",
    "  payment_type string,\n",
    "  total_trip_count bigint,\n",
    "  total_passenger_count bigint,\n",
    "  total_trip_distance double,\n",
    "  total_tip_amount double,\n",
    "  total_fare_amount double,\n",
    "  total_total_trip_amount double\n",
    ");\n",
    "\n",
    "-- Silver 加工データを Gold にロード\n",
    "INSERT INTO 05_gold_nyctaxi \n",
    "SELECT \n",
    "  pickup_date, suburb, neighbourhood, payment_type,\n",
    "  count(*),\n",
    "  sum(passenger_count),\n",
    "  sum(trip_distance),\n",
    "  sum(tip_amount),\n",
    "  sum(fare_amount) + sum(extra) + sum(mta_tax),\n",
    "  sum(total_amount)\n",
    "FROM 05_silver_nyctaxi\n",
    "GROUP BY pickup_date, payment_type, suburb , neighbourhood;\n",
    "\n",
    "SELECT * FROM 05_gold_nyctaxi LIMIT 10;\n",
    "\n",
    "-- 各種 DML\n",
    "DELETE FROM 05_gold_nyctaxi WHERE total_tip_amount = 0;\n",
    "UPDATE 05_gold_nyctaxi SET payment_type = \"Credit Card\" WHERE payment_type = \"Credit\";\n",
    "DROP TABLE 05_gold_nyctaxi;\n",
    "\n",
    "-- CTAS で定義することも可能\n",
    "CREATE OR REPLACE TABLE 05_gold_nyctaxi AS\n",
    "SELECT \n",
    "  pickup_date, suburb as pickup_borough, neighbourhood as pickup_zone, payment_type,\n",
    "  count(*) as total_trip_count,\n",
    "  sum(passenger_count) as total_passenger_count,\n",
    "  sum(trip_distance) as total_trip_distance,\n",
    "  sum(tip_amount) as total_tip_amount,\n",
    "  sum(fare_amount) as total_fare_amount,\n",
    "  sum(total_amount) as total_total_amount\n",
    "FROM 05_silver_nyctaxi\n",
    "GROUP BY pickup_date, payment_type, suburb , neighbourhood;\n",
    "\n",
    "SELECT * FROM 05_gold_nyctaxi LIMIT 10;\n",
    "\n"
   ]
  }
 ],
 "metadata": {
  "application/vnd.databricks.v1+notebook": {
   "computePreferences": null,
   "dashboards": [],
   "environmentMetadata": null,
   "language": "sql",
   "notebookMetadata": {
    "sqlQueryOptions": {
     "applyAutoLimit": true,
     "catalog": "o9o9dbw",
     "schema": "handson_day2_tooota"
    }
   },
   "notebookName": "05.2_Databricks SQL.dbquery.ipynb",
   "widgets": {}
  },
  "language_info": {
   "name": "sql"
  }
 },
 "nbformat": 4,
 "nbformat_minor": 0
}
