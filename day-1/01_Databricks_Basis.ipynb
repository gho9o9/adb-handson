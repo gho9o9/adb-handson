{
 "cells": [
  {
   "cell_type": "markdown",
   "metadata": {
    "application/vnd.databricks.v1+cell": {
     "cellMetadata": {},
     "inputWidgets": {},
     "nuid": "dd60732b-86e3-4373-ba47-411ab02b76e8",
     "showTitle": false,
     "tableResultSettingsMap": {},
     "title": ""
    }
   },
   "source": [
    "# はじめに"
   ]
  },
  {
   "cell_type": "markdown",
   "metadata": {
    "application/vnd.databricks.v1+cell": {
     "cellMetadata": {},
     "inputWidgets": {},
     "nuid": "6f4139c8-8101-4362-963c-1948b8b6cb18",
     "showTitle": false,
     "tableResultSettingsMap": {},
     "title": ""
    }
   },
   "source": [
    "ラボコンテンツ（このノートブック）の実行に必要な Spark クラスタとして汎用コンピューティングクラスタを準備しノートブックにアタッチします。"
   ]
  },
  {
   "cell_type": "markdown",
   "metadata": {
    "application/vnd.databricks.v1+cell": {
     "cellMetadata": {},
     "inputWidgets": {},
     "nuid": "4e31605a-0246-4a8c-8431-f8cf1ddc773b",
     "showTitle": false,
     "tableResultSettingsMap": {},
     "title": ""
    }
   },
   "source": [
    "## 汎用コンピューティングクラスタの準備"
   ]
  },
  {
   "cell_type": "markdown",
   "metadata": {
    "application/vnd.databricks.v1+cell": {
     "cellMetadata": {},
     "inputWidgets": {},
     "nuid": "13dfab98-0d09-4834-97a0-10623c11a396",
     "showTitle": false,
     "tableResultSettingsMap": {},
     "title": ""
    }
   },
   "source": [
    "プロビジョニング or サーバレスで汎用コンピューティングクラスタを準備します。\n",
    "\n",
    "なおこのノートブックの実行において プロビジョニング or サーバレス は不問です。\n"
   ]
  },
  {
   "cell_type": "markdown",
   "metadata": {
    "application/vnd.databricks.v1+cell": {
     "cellMetadata": {},
     "inputWidgets": {},
     "nuid": "8652631a-caa9-4419-9668-a8c3242b54c0",
     "showTitle": false,
     "tableResultSettingsMap": {},
     "title": ""
    }
   },
   "source": [
    "### プロビジョニング 汎用コンピューティング クラスタ\n",
    "\n",
    "プロビジョニング汎用コンピューティングを利用する場合は `Databricks Runtime のバージョン` を `Runtime: 13.3 LTS` 以上を指定してください。\n",
    "\n",
    "またコストの観点からもハンズオンコンテンツの実行においては低スペックな`ノードタイプ（例：Standard_D4ads_v5）` かつ `シングルノード` で十分です。\n",
    "\n",
    "</br><img src=\"../images/basis.1.png\" width=\"600\"/>  \n",
    "</br><img src=\"../images/basis.2.png\" width=\"600\"/>  "
   ]
  },
  {
   "cell_type": "markdown",
   "metadata": {
    "application/vnd.databricks.v1+cell": {
     "cellMetadata": {},
     "inputWidgets": {},
     "nuid": "ad54a0c2-a99a-45c2-9d3a-e4e443d2e2ea",
     "showTitle": false,
     "tableResultSettingsMap": {},
     "title": ""
    }
   },
   "source": [
    "### サーバレス  汎用コンピューティング クラスタ\n",
    "サーバレス汎用コンピューティングを利用する場合は明示的なデプロイは不要です。"
   ]
  },
  {
   "cell_type": "markdown",
   "metadata": {
    "application/vnd.databricks.v1+cell": {
     "cellMetadata": {},
     "inputWidgets": {},
     "nuid": "7a189ead-16ed-4fb8-b699-255d9be4d219",
     "showTitle": false,
     "tableResultSettingsMap": {},
     "title": ""
    }
   },
   "source": [
    "## 汎用コンピューティングクラスタのアタッチ\n",
    "\n",
    "準備した汎用コンピューティングクラスタをこのノートブックにアタッチします。\n",
    "\n",
    "ノートブックの右肩にあるクラスターリストから準備したクラスターを選択します。停止しているプロビジョニング汎用コンピューティングを選択した場合はそのタイミングで起動が開始されます。 \n",
    "\n",
    "</br><img src=\"../images/basis.3.png\" width=\"600\"/>  \n",
    " "
   ]
  },
  {
   "cell_type": "markdown",
   "metadata": {
    "application/vnd.databricks.v1+cell": {
     "cellMetadata": {},
     "inputWidgets": {},
     "nuid": "7ee3b521-d4cb-4348-81de-2293f39c998a",
     "showTitle": false,
     "tableResultSettingsMap": {},
     "title": ""
    }
   },
   "source": [
    "# ノートブックの基本\n",
    "\n",
    "ここでは Databricks での開発における主要ツールとなる[ノートブック](https://learn.microsoft.com/ja-jp/azure/databricks/notebooks/)の基本を学習します。"
   ]
  },
  {
   "cell_type": "markdown",
   "metadata": {
    "application/vnd.databricks.v1+cell": {
     "cellMetadata": {},
     "inputWidgets": {},
     "nuid": "35c2170f-2b2a-4442-b548-3e711c2ebc02",
     "showTitle": false,
     "tableResultSettingsMap": {},
     "title": ""
    }
   },
   "source": [
    "## セルの実行\n",
    "\n",
    "セル内に記述された処理の実行はセルの左上にある `セルの実行` もしくは各種ショートカットキーを使用します。  \n",
    "</br><img src=\"../images/basis.4.png\" width=\"600\"/>  "
   ]
  },
  {
   "cell_type": "code",
   "execution_count": 0,
   "metadata": {
    "application/vnd.databricks.v1+cell": {
     "cellMetadata": {},
     "inputWidgets": {},
     "nuid": "b6e0be67-1a05-462b-bb32-82176237081d",
     "showTitle": false,
     "tableResultSettingsMap": {},
     "title": ""
    }
   },
   "outputs": [],
   "source": [
    "print(\"Hello Databricks\")"
   ]
  },
  {
   "cell_type": "markdown",
   "metadata": {
    "application/vnd.databricks.v1+cell": {
     "cellMetadata": {},
     "inputWidgets": {},
     "nuid": "fc65eef5-4ac3-4f57-8ac6-2b462902baa2",
     "showTitle": false,
     "tableResultSettingsMap": {},
     "title": ""
    }
   },
   "source": [
    "## ノートブック言語の設定\n",
    "\n",
    "上記のセルはノートブックのデフォルト言語が Python に設定されているため Python コードとして実行されます。  \n",
    "\n",
    "Databricks のノートブックは Python、SQL、Scala、R がサポートされます。  \n",
    "\n",
    "デフォルト言語はノートブック左上のリストから選択・変更がいつでも可能です。  \n",
    "\n",
    "</br><img src=\"../images/basis.5.png\" width=\"600\"/>  "
   ]
  },
  {
   "cell_type": "markdown",
   "metadata": {
    "application/vnd.databricks.v1+cell": {
     "cellMetadata": {},
     "inputWidgets": {},
     "nuid": "4d501386-2aca-404c-83f8-5b24882b5c77",
     "showTitle": false,
     "tableResultSettingsMap": {},
     "title": ""
    }
   },
   "source": [
    "## マジックコマンド\n",
    "ここでは代表的なマジックコマンドを紹介します。"
   ]
  },
  {
   "cell_type": "markdown",
   "metadata": {
    "application/vnd.databricks.v1+cell": {
     "cellMetadata": {},
     "inputWidgets": {},
     "nuid": "7f84a46f-003c-4b3d-9e1d-3cac715a9660",
     "showTitle": false,
     "tableResultSettingsMap": {},
     "title": ""
    }
   },
   "source": [
    "### %[lang] : 言語マジック\n",
    "言語マジックコマンドはノートブックのデフォルト言語以外の言語でコード実行する指示します。\n",
    "* <strong><code>&#37;python</code></strong>\n",
    "* <strong><code>&#37;sql</code></strong>\n",
    "* <strong><code>&#37;scala</code></strong>\n",
    "* <strong><code>&#37;r</code></strong>\n",
    "\n",
    "ノートブックのデフォルト言語は主要言語を維持し他の言語でコードを実行する必要がある場合にのみ言語マジックを使用するのが推奨です。"
   ]
  },
  {
   "cell_type": "code",
   "execution_count": 0,
   "metadata": {
    "application/vnd.databricks.v1+cell": {
     "cellMetadata": {},
     "inputWidgets": {},
     "nuid": "993002b6-0279-4d92-aa5d-c18dd57202c5",
     "showTitle": false,
     "tableResultSettingsMap": {},
     "title": ""
    }
   },
   "outputs": [],
   "source": [
    "# Python がデフォルト言語でマジックコマンドの指示なしに SQL を実行すると Python としてのシンタックスエラーとなります \n",
    "\n",
    "# SELECT \"Hello Databricks SQL\"; "
   ]
  },
  {
   "cell_type": "code",
   "execution_count": 0,
   "metadata": {
    "application/vnd.databricks.v1+cell": {
     "cellMetadata": {},
     "inputWidgets": {},
     "nuid": "d449e888-2545-484f-847d-a4c8a705e14e",
     "showTitle": false,
     "tableResultSettingsMap": {},
     "title": ""
    }
   },
   "outputs": [],
   "source": [
    "%sql -- Python がデフォルト言語で SQL を実行したい場合はマジックコマンドで言語を指定します \n",
    "SELECT \"Hello Databricks SQL\"; "
   ]
  },
  {
   "cell_type": "markdown",
   "metadata": {
    "application/vnd.databricks.v1+cell": {
     "cellMetadata": {},
     "inputWidgets": {},
     "nuid": "c038363e-32a9-4840-a713-44545e922da6",
     "showTitle": false,
     "tableResultSettingsMap": {},
     "title": ""
    }
   },
   "source": [
    "\n",
    "### %md : Markdown\n",
    "\n",
    "マジックコマンド **&percnt;md** により、セル内でマークダウンを記述します。\n",
    "* このセルをダブルクリックして編集を開始します\n",
    "* 編集を終了するには **`Esc`** キーを押します\n",
    "\n",
    "以下は代表的な例です。\n",
    "\n",
    "# タイトル1\n",
    "## タイトル2\n",
    "### タイトル3\n",
    "\n",
    "これは **太字** の単語を含むテキストです。\n",
    "\n",
    "これは順序付きリストです\n",
    "1. 1つ\n",
    "1. 2つ\n",
    "1. 3つ\n",
    "\n",
    "これは順不同リストです\n",
    "* りんご\n",
    "* 桃\n",
    "* バナナ\n",
    "\n",
    "リンク/埋め込みHTML： <a href=\"https://en.wikipedia.org/wiki/Markdown\" target=\"_blank\">Markdown - Wikipedia</a>\n",
    "\n",
    "画像：\n",
    "![Spark Engines](https://files.training.databricks.com/images/Apache-Spark-Logo_TM_200px.png)\n",
    "\n",
    "テーブル：\n",
    "\n",
    "| 名前   | 値    |\n",
    "|--------|-------|\n",
    "| Yi     | 1     |\n",
    "| Ali    | 2     |\n",
    "| Selina | 3     |"
   ]
  },
  {
   "cell_type": "markdown",
   "metadata": {
    "application/vnd.databricks.v1+cell": {
     "cellMetadata": {},
     "inputWidgets": {},
     "nuid": "01da8061-f4d9-4a0f-9f54-5f78989377d3",
     "showTitle": false,
     "tableResultSettingsMap": {},
     "title": ""
    }
   },
   "source": [
    "### %run : 別のノートブックのインライン実行\n",
    "\n",
    "**%run** マジックコマンドを使用してノートブックから別のノートブックを実行します。  \n",
    "\n",
    "実行するノートブックは相対パスで指定します。  \n",
    "\n",
    "別のノートブックはインラインで実行されるため別のノートブックで定義したオブジェクトは呼び出し元のノートブックから利用できます。  \n",
    "\n",
    "この仕組みによりノートブックをモジュール化できます。"
   ]
  },
  {
   "cell_type": "code",
   "execution_count": 0,
   "metadata": {
    "application/vnd.databricks.v1+cell": {
     "cellMetadata": {},
     "inputWidgets": {},
     "nuid": "62b72c28-e67d-4933-a3ef-a478d69edb32",
     "showTitle": false,
     "tableResultSettingsMap": {},
     "title": ""
    }
   },
   "outputs": [],
   "source": [
    "# このノートブック内で定義されてない変数の参照はエラー\n",
    "\n",
    "# print(\"sample_dataset_path = \" + sample_dataset_path)"
   ]
  },
  {
   "cell_type": "code",
   "execution_count": 0,
   "metadata": {
    "application/vnd.databricks.v1+cell": {
     "cellMetadata": {},
     "inputWidgets": {},
     "nuid": "1f2b65b6-8b3e-4876-9914-455f11af6952",
     "showTitle": false,
     "tableResultSettingsMap": {},
     "title": ""
    }
   },
   "outputs": [],
   "source": [
    "%run ../include/handson.h"
   ]
  },
  {
   "cell_type": "code",
   "execution_count": 0,
   "metadata": {
    "application/vnd.databricks.v1+cell": {
     "cellMetadata": {},
     "inputWidgets": {},
     "nuid": "89d7bea8-86b3-41ad-a121-52100b289a15",
     "showTitle": false,
     "tableResultSettingsMap": {},
     "title": ""
    }
   },
   "outputs": [],
   "source": [
    "# 呼び出した先のノートブック内で定義されている変数は参照可能\n",
    "print(\"sample_dataset_path = \" + sample_dataset_path)"
   ]
  },
  {
   "cell_type": "markdown",
   "metadata": {
    "application/vnd.databricks.v1+cell": {
     "cellMetadata": {},
     "inputWidgets": {},
     "nuid": "d3368e99-447a-4081-970d-ccebd12263c9",
     "showTitle": false,
     "tableResultSettingsMap": {},
     "title": ""
    }
   },
   "source": [
    "### %pip : ライブラリのインストール\n",
    "\n",
    "[ノートブックスコープのライブラリ](https://learn.microsoft.com/ja-jp/azure/databricks/libraries/notebooks-python-libraries)は **%pip** を使用してインストールします。  \n",
    "\n",
    "**関連：**\n",
    "- [クラスタースコープのライブラリのインストール](https://learn.microsoft.com/ja-jp/azure/databricks/libraries/cluster-libraries)\n",
    "- [サーバーレスコンピュートへのライブラリのインストール](https://learn.microsoft.com/ja-jp/azure/databricks/compute/serverless/dependencies)\n"
   ]
  },
  {
   "cell_type": "code",
   "execution_count": 0,
   "metadata": {
    "application/vnd.databricks.v1+cell": {
     "cellMetadata": {},
     "inputWidgets": {},
     "nuid": "57b25f7f-eaf4-4de6-9ba6-271d8503cdf4",
     "showTitle": false,
     "tableResultSettingsMap": {},
     "title": ""
    }
   },
   "outputs": [],
   "source": [
    "%pip install matplotlib"
   ]
  },
  {
   "cell_type": "code",
   "execution_count": 0,
   "metadata": {
    "application/vnd.databricks.v1+cell": {
     "cellMetadata": {},
     "inputWidgets": {},
     "nuid": "b9fd271b-4b1b-423e-a826-acaac47293b7",
     "showTitle": false,
     "tableResultSettingsMap": {},
     "title": ""
    }
   },
   "outputs": [],
   "source": [
    "import matplotlib.pyplot as plt\n",
    "\n",
    "# X軸の定義\n",
    "x = [1, 2, 3, 4, 5, 6]\n",
    "\n",
    "# Y軸の定義\n",
    "y1 = [100, 50, 150, 300, 100, 100 ]\n",
    "y2 = [200, 300, 200, 400, 200, 300]\n",
    "y3 = [500, 400, 300, 600, 100, 400]\n",
    "\n",
    "# figureを生成\n",
    "fig = plt.figure()\n",
    "\n",
    "# axをfigureに設定\n",
    "ax = fig.add_subplot(1, 1, 1)\n",
    "\n",
    "# axに折れ線を設定\n",
    "ax.plot(x, y1, \"-\", c=\"Blue\", linewidth=1, marker='o', alpha=1)\n",
    "ax.plot(x, y2, \"-\", c=\"Red\", linewidth=1, marker='o', alpha=1)\n",
    "ax.plot(x, y3, \"-\", c=\"Green\", linewidth=1, marker='o', alpha=1)\n",
    "\n",
    "# 表示\n",
    "plt.show()\n"
   ]
  },
  {
   "cell_type": "markdown",
   "metadata": {
    "application/vnd.databricks.v1+cell": {
     "cellMetadata": {},
     "inputWidgets": {},
     "nuid": "1ba8e235-3727-4f82-9ee3-074c1eae72e0",
     "showTitle": false,
     "tableResultSettingsMap": {},
     "title": ""
    }
   },
   "source": [
    "### %sh : シェルコードの実行\n",
    "\n",
    "**%sh** を使用してシェル コードをノートブック内で実行します。シェル コードはドライバー上で処理されます。  "
   ]
  },
  {
   "cell_type": "code",
   "execution_count": 0,
   "metadata": {
    "application/vnd.databricks.v1+cell": {
     "cellMetadata": {},
     "inputWidgets": {},
     "nuid": "09b3c344-2299-466b-9d53-0b53ac1e546f",
     "showTitle": false,
     "tableResultSettingsMap": {},
     "title": ""
    }
   },
   "outputs": [],
   "source": [
    "%sh\n",
    "ls -la /tmp"
   ]
  },
  {
   "cell_type": "markdown",
   "metadata": {
    "application/vnd.databricks.v1+cell": {
     "cellMetadata": {},
     "inputWidgets": {},
     "nuid": "3107fe38-6133-458a-a19e-f45cf7646f15",
     "showTitle": false,
     "tableResultSettingsMap": {},
     "title": ""
    }
   },
   "source": [
    "シェル実行は[初期化スクリプト（クラスタ起動時に共通の環境変数、Spark 構成パラメータやライブラリ追加などを行う）](https://learn.microsoft.com/ja-jp/azure/databricks/init-scripts/)にて各ノードで実行するのが通常です。  \n",
    "\n",
    "以下のサンプルは個別のシェル実行の一例です。  \n",
    "\n",
    "Databricks でのデータ保管先となる[オブジェクトストレージはファイルに対する追記や更新をサポートしない](https://learn.microsoft.com/ja-jp/azure/databricks/files/#volumes-limitations)ため、ローカルでファイル操作をした結果をシェル実行によりオブジェクトストレージコピーします。"
   ]
  },
  {
   "cell_type": "code",
   "execution_count": 0,
   "metadata": {
    "application/vnd.databricks.v1+cell": {
     "cellMetadata": {},
     "inputWidgets": {},
     "nuid": "22ec0553-9dcf-4719-8dcd-34af57276703",
     "showTitle": false,
     "tableResultSettingsMap": {},
     "title": ""
    }
   },
   "outputs": [],
   "source": [
    "import os\n",
    "os.environ[\"object_storage\"] = sample_dataset_path"
   ]
  },
  {
   "cell_type": "code",
   "execution_count": 0,
   "metadata": {
    "application/vnd.databricks.v1+cell": {
     "cellMetadata": {},
     "inputWidgets": {},
     "nuid": "c2e2ce1f-600d-4f43-b76a-239e17961954",
     "showTitle": false,
     "tableResultSettingsMap": {},
     "title": ""
    }
   },
   "outputs": [],
   "source": [
    "%sh\n",
    "# CSVファイル\n",
    "output_file=\"sample.csv\"\n",
    "object_storage_path=$(printf \"%s/%s\" \"$object_storage\" \"$output_file\")\n",
    "\n",
    "# ヘッダー\n",
    "echo \"Name,Age,Location\" > $object_storage_path\n",
    "\n",
    "# データ(オブジェクトストレージ上のファイルへの追記は不可「Operation not supported」)\n",
    "echo \"Alice,30,Tokyo\" >> $object_storage_path\n",
    "echo \"Bob,25,Osaka\" >> $object_storage_path\n",
    "echo \"Charlie,35,Nagoya\" >> $object_storage_path\n",
    "\n",
    "cat $object_storage_path"
   ]
  },
  {
   "cell_type": "code",
   "execution_count": 0,
   "metadata": {
    "application/vnd.databricks.v1+cell": {
     "cellMetadata": {},
     "inputWidgets": {},
     "nuid": "29428ec8-1d43-4f00-933a-42b5b0a6365e",
     "showTitle": false,
     "tableResultSettingsMap": {},
     "title": ""
    }
   },
   "outputs": [],
   "source": [
    "%sh\n",
    "# CSVファイル\n",
    "output_file=\"sample.csv\"\n",
    "object_storage_path=$(printf \"%s/%s\" \"$object_storage\" \"$output_file\")\n",
    "local_path=\"/tmp/${output_file}}\"\n",
    "\n",
    "# ヘッダー\n",
    "echo \"Name,Age,Location\" > $local_path\n",
    "# データ\n",
    "echo \"Alice,30,Tokyo\" >> $local_path\n",
    "echo \"Bob,25,Osaka\" >> $local_path\n",
    "echo \"Charlie,35,Nagoya\" >> $local_path\n",
    "\n",
    "# ローカルで加工したファイルをオブジェクトストレージへコピー\n",
    "cp $local_path $object_storage_path\n",
    "cat $object_storage_path"
   ]
  },
  {
   "cell_type": "markdown",
   "metadata": {
    "application/vnd.databricks.v1+cell": {
     "cellMetadata": {},
     "inputWidgets": {},
     "nuid": "b69cc930-bf7c-4512-aa8f-377ac7c0fea8",
     "showTitle": false,
     "tableResultSettingsMap": {},
     "title": ""
    }
   },
   "source": [
    "## ファイル操作\n",
    "[Databricks Utilities（dbutils）](https://learn.microsoft.com/ja-jp/azure/databricks/dev-tools/databricks-utils) のファイル システム ユーティリティ（dbutils.fs.ls）を使用しファイルを操作します。 "
   ]
  },
  {
   "cell_type": "markdown",
   "metadata": {
    "application/vnd.databricks.v1+cell": {
     "cellMetadata": {},
     "inputWidgets": {},
     "nuid": "46a0b89c-f862-4429-974c-5068cf745eaa",
     "showTitle": false,
     "tableResultSettingsMap": {},
     "title": ""
    }
   },
   "source": [
    "### UC Volume の操作\n",
    "dbutils.fs.ls(\"/Volumes/\\<catalog-name\\>/\\<schema-name\\>/\\<volume-name\\>/\\<path\\>\")"
   ]
  },
  {
   "cell_type": "code",
   "execution_count": 0,
   "metadata": {
    "application/vnd.databricks.v1+cell": {
     "cellMetadata": {},
     "inputWidgets": {},
     "nuid": "85a0a2ee-bf44-4477-a11e-ab22c5d514c0",
     "showTitle": false,
     "tableResultSettingsMap": {},
     "title": ""
    }
   },
   "outputs": [],
   "source": [
    "volume_path = sample_dataset_path\n",
    "print(\"volume_path = \" + volume_path)\n",
    "\n",
    "files = dbutils.fs.ls(volume_path)\n",
    "display(files)"
   ]
  },
  {
   "cell_type": "markdown",
   "metadata": {
    "application/vnd.databricks.v1+cell": {
     "cellMetadata": {},
     "inputWidgets": {},
     "nuid": "d08768a7-91cb-4486-9e11-63a2762d0d6d",
     "showTitle": false,
     "tableResultSettingsMap": {},
     "title": ""
    }
   },
   "source": [
    "### ワークスペースファイルの操作（サーバーレスは未サポート）\n",
    "dbutils.fs.ls(\"file:/Workspace/Users/\\<user-name\\>/\\<path\\>\")"
   ]
  },
  {
   "cell_type": "code",
   "execution_count": 0,
   "metadata": {
    "application/vnd.databricks.v1+cell": {
     "cellMetadata": {},
     "inputWidgets": {},
     "nuid": "42de14da-e4e1-4143-bfe1-5e6a7a2abe10",
     "showTitle": false,
     "tableResultSettingsMap": {},
     "title": ""
    }
   },
   "outputs": [],
   "source": [
    "username = spark.sql(\"SELECT current_user()\").collect()[0][0]\n",
    "workspace_files_path = f\"file:/Workspace/Users/{username}/\"\n",
    "print(\"workspace_files_path = \" + workspace_files_path)\n",
    "\n",
    "files = dbutils.fs.ls(workspace_files_path)\n",
    "display(files)"
   ]
  },
  {
   "cell_type": "markdown",
   "metadata": {
    "application/vnd.databricks.v1+cell": {
     "cellMetadata": {},
     "inputWidgets": {},
     "nuid": "5ed67f84-3305-49ef-9d15-131f668d0e71",
     "showTitle": false,
     "tableResultSettingsMap": {},
     "title": ""
    }
   },
   "source": [
    "### クラウドストレージの操作\n",
    "dbutils.fs.ls(\"abfss://\\<container-name\\>@\\<storage-account-name\\>.dfs.core.windows.net/\\<path\\>\")"
   ]
  },
  {
   "cell_type": "code",
   "execution_count": 0,
   "metadata": {
    "application/vnd.databricks.v1+cell": {
     "cellMetadata": {},
     "inputWidgets": {},
     "nuid": "8f0268e0-5970-4d7b-b61a-9d2325dd41e4",
     "showTitle": false,
     "tableResultSettingsMap": {},
     "title": ""
    }
   },
   "outputs": [],
   "source": [
    "catalog_desc = spark.sql(\"DESCRIBE CATALOG EXTENDED o9o9dbw\")\n",
    "\n",
    "for row in catalog_desc.collect(): \n",
    "  if row[\"info_name\"] == \"Storage Root\":\n",
    "    cloud_storage_path = row[\"info_value\"]\n",
    "    break\n",
    "\n",
    "print(\"cloud_storage_path = \" + cloud_storage_path)\n",
    "# 該当の外部ロケーションに対して READ FILES 権限が必要\n",
    "files = dbutils.fs.ls(cloud_storage_path)\n",
    "display(files)"
   ]
  },
  {
   "cell_type": "markdown",
   "metadata": {
    "application/vnd.databricks.v1+cell": {
     "cellMetadata": {},
     "inputWidgets": {},
     "nuid": "0d2d7ccf-d20d-404e-8995-9e4c8377a99a",
     "showTitle": false,
     "tableResultSettingsMap": {},
     "title": ""
    }
   },
   "source": [
    "### 参考\n",
    "- [Azure Databricks 上のファイルを操作する](https://learn.microsoft.com/ja-jp/azure/databricks/files/)\n",
    "- [Databricksのファイルシステムを可能な限りわかりやすく解説](https://qiita.com/taka_yayoi/items/075c6b3aeafac54c8ac4)"
   ]
  },
  {
   "cell_type": "markdown",
   "metadata": {
    "application/vnd.databricks.v1+cell": {
     "cellMetadata": {},
     "inputWidgets": {},
     "nuid": "61f5d134-eca6-4f3f-9bfb-ad9072e93828",
     "showTitle": false,
     "tableResultSettingsMap": {},
     "title": ""
    }
   },
   "source": [
    "## ノートブック間でのコード共有する\n",
    "\n",
    "ソースコードファイルをモジュールとしてノートブックにインポートすることでコードを共有できます。  \n",
    "\n",
    "#### 参考\n",
    "- [Databricks ノートブック間でコードを共有する](https://learn.microsoft.com/ja-jp/azure/databricks/notebooks/share-code)"
   ]
  },
  {
   "cell_type": "code",
   "execution_count": 0,
   "metadata": {
    "application/vnd.databricks.v1+cell": {
     "cellMetadata": {},
     "inputWidgets": {},
     "nuid": "7b6b503d-437b-4a8a-a1b9-1839b075818d",
     "showTitle": false,
     "tableResultSettingsMap": {},
     "title": ""
    }
   },
   "outputs": [],
   "source": [
    "from package.demo import *\n",
    "print(hello(\"databricks\"))"
   ]
  },
  {
   "cell_type": "markdown",
   "metadata": {
    "application/vnd.databricks.v1+cell": {
     "cellMetadata": {},
     "inputWidgets": {},
     "nuid": "b1564681-7db0-4191-b899-4c854f40d066",
     "showTitle": false,
     "tableResultSettingsMap": {},
     "title": ""
    }
   },
   "source": [
    "## ノートブックを通じた共同作業\n",
    "ノートブックの右肩にある `共有` によって共同作業者へノートブックへのアクセス制御が可能です。\n",
    "\n",
    "| 能力                                      | 権限なし | 読み取り可能 | 実行可能 | 編集可能 | 管理可能 |\n",
    "|-------------------------------------------|----------|--------------|----------|----------|----------|\n",
    "| セルの表示                                |          | x            | x        | x        | x        |\n",
    "| Comment (コメント)                        |          | x            | x        | x        | x        |\n",
    "| %run またノートブック ワークフローを使用して実行する |          | x            | x        | x        | x        |\n",
    "| ノートブックのアタッチとデタッチ          |          |              | x        | x        | x        |\n",
    "| コマンドの実行                            |          |              | x        | x        | x        |\n",
    "| セルの編集                                |          |              |          | x        | x        |\n",
    "| アクセス許可の変更                        |          |              |          |          | x        |\n",
    "\n",
    "またコメントによって共同作業者とのディスカッションも可能です。\n",
    "\n",
    "#### 参考\n",
    "- [Databricks ノートブックを使用して共同作業する](https://learn.microsoft.com/ja-jp/azure/databricks/notebooks/notebooks-collaborate)"
   ]
  },
  {
   "cell_type": "markdown",
   "metadata": {
    "application/vnd.databricks.v1+cell": {
     "cellMetadata": {},
     "inputWidgets": {},
     "nuid": "c251e980-70a9-44c6-8abf-39b386a421be",
     "showTitle": false,
     "tableResultSettingsMap": {},
     "title": ""
    }
   },
   "source": [
    "## ノートブックのインポート・エクスポート\n",
    "ノートブックは次の形式でインポートやエクスポートが可能です。  \n",
    "</br><img src=\"../images/basis.6.png\" width=\"600\"/>  \n",
    "\n",
    "| フォーマット | 解説 |\n",
    "|----------|----------|\n",
    "| DBCアーカイブ | 独自のアーカイブファイル |\n",
    "| ソース ファイル | 拡張子が .scala、.py、.sql、または .r のソース コード ステートメントのみを含むファイル（フォルダの場合は ZIP ファイル） |\n",
    "| HTML | 拡張子が .html の Azure Databricks ノートブック |\n",
    "| R Markdown | 拡張子が の .Rmd の R マークダウンファイル |\n",
    "| IPython | 拡張子が の .ipynb のノートブックファイル |\n",
    "\n",
    "#### 参考\n",
    "- [Databricks ノートブックのエクスポートとインポート](https://learn.microsoft.com/ja-jp/azure/databricks/notebooks/notebook-export-import)"
   ]
  },
  {
   "cell_type": "markdown",
   "metadata": {
    "application/vnd.databricks.v1+cell": {
     "cellMetadata": {},
     "inputWidgets": {},
     "nuid": "17ff18d4-dd88-4fd9-9b56-200e33c2cd87",
     "showTitle": false,
     "tableResultSettingsMap": {},
     "title": ""
    }
   },
   "source": [
    "## ノートブックの UI パラメータ\n",
    "パラメータを受け取る UI をノートブックに追加します。\n",
    "\n",
    "#### 参考\n",
    "- [Databricks ウィジェット](https://learn.microsoft.com/ja-jp/azure/databricks/notebooks/widgets)\n",
    "- [widgets ユーティリティ (dbutils.widgets)](https://learn.microsoft.com/ja-jp/azure/databricks/dev-tools/databricks-utils#dbutils-widgets)"
   ]
  },
  {
   "cell_type": "code",
   "execution_count": 0,
   "metadata": {
    "application/vnd.databricks.v1+cell": {
     "cellMetadata": {},
     "inputWidgets": {},
     "nuid": "95cca803-cdda-47a7-a3c9-089986b1650a",
     "showTitle": false,
     "tableResultSettingsMap": {},
     "title": ""
    }
   },
   "outputs": [],
   "source": [
    "# 下記のコード実行によりノートブックの上部にパラメータを指定する UI が追加されます。\n",
    "dbutils.widgets.dropdown(\"state\", \"CA\", [\"CA\", \"IL\", \"MI\", \"NY\", \"OR\", \"VA\"])"
   ]
  },
  {
   "cell_type": "code",
   "execution_count": 0,
   "metadata": {
    "application/vnd.databricks.v1+cell": {
     "cellMetadata": {},
     "inputWidgets": {},
     "nuid": "c4054374-63c0-4b79-92e9-b1601aea425d",
     "showTitle": false,
     "tableResultSettingsMap": {},
     "title": ""
    }
   },
   "outputs": [],
   "source": [
    "dbutils.widgets.get(\"state\")"
   ]
  },
  {
   "cell_type": "code",
   "execution_count": 0,
   "metadata": {
    "application/vnd.databricks.v1+cell": {
     "cellMetadata": {},
     "inputWidgets": {},
     "nuid": "89723b6e-5bf3-4fe5-b60b-1230b795d818",
     "showTitle": false,
     "tableResultSettingsMap": {},
     "title": ""
    }
   },
   "outputs": [],
   "source": [
    "dbutils.widgets.remove(\"state\")"
   ]
  },
  {
   "cell_type": "markdown",
   "metadata": {
    "application/vnd.databricks.v1+cell": {
     "cellMetadata": {},
     "inputWidgets": {},
     "nuid": "bf207e5b-bcc7-481a-8544-fc777a7f80b9",
     "showTitle": false,
     "tableResultSettingsMap": {},
     "title": ""
    }
   },
   "source": [
    "Jupyter Widgets（ipywidgets）を利用することでインタラクティブな実行をサポートすることもできます。\n",
    "#### 参考\n",
    "- [ipywidgets ウィジェット](https://learn.microsoft.com/ja-jp/azure/databricks/notebooks/ipywidgets)\n",
    "- [Jupyter Widgets（ipywidgets）](https://ipywidgets.readthedocs.io/en/stable/)"
   ]
  },
  {
   "cell_type": "code",
   "execution_count": 0,
   "metadata": {
    "application/vnd.databricks.v1+cell": {
     "cellMetadata": {},
     "inputWidgets": {},
     "nuid": "c59a88fb-4758-47a5-8e21-0583b3751bfa",
     "showTitle": false,
     "tableResultSettingsMap": {},
     "title": ""
    }
   },
   "outputs": [],
   "source": [
    "import ipywidgets as widgets\n",
    "from ipywidgets import interact\n",
    "\n",
    "# Load a dataset\n",
    "sparkDF = spark.read.csv(\"/databricks-datasets/bikeSharing/data-001/day.csv\", header=\"true\", inferSchema=\"true\")\n",
    "\n",
    "# In this code, `(bins=(3, 10)` defines an integer slider widget that allows values between 3 and 10.\n",
    "@interact(bins=(3, 10))\n",
    "def plot_histogram(bins):\n",
    "  pdf = sparkDF.toPandas()\n",
    "  pdf.hist(column='temp', bins=bins)"
   ]
  },
  {
   "cell_type": "code",
   "execution_count": 0,
   "metadata": {
    "application/vnd.databricks.v1+cell": {
     "cellMetadata": {},
     "inputWidgets": {},
     "nuid": "e51b8200-ed63-40d6-abb6-4dea7b8a3d11",
     "showTitle": false,
     "tableResultSettingsMap": {},
     "title": ""
    }
   },
   "outputs": [],
   "source": [
    "import ipywidgets as widgets\n",
    "\n",
    "# Create button widget. Clicking this button loads a sampled dataframe from UC table.\n",
    "button = widgets.Button(description=\"Load dataframe sample\")\n",
    "\n",
    "# Output widget to display the loaded dataframe\n",
    "output = widgets.Output()\n",
    "\n",
    "def load_sample_df(table_name):\n",
    "  return spark.sql(f\"SELECT * FROM {table_name} LIMIT 1000\")\n",
    "\n",
    "def on_button_clicked(_):\n",
    "    with output:\n",
    "      output.clear_output()\n",
    "      df = load_sample_df('samples.tpch.region')\n",
    "      print(df.toPandas())\n",
    "\n",
    "# Register the button's callback function to query UC and display results to the output widget\n",
    "button.on_click(on_button_clicked)\n",
    "\n",
    "display(button, output)"
   ]
  }
 ],
 "metadata": {
  "application/vnd.databricks.v1+notebook": {
   "computePreferences": null,
   "dashboards": [],
   "environmentMetadata": null,
   "language": "python",
   "notebookMetadata": {
    "pythonIndentUnit": 4
   },
   "notebookName": "01_Databricks_Basis",
   "widgets": {}
  },
  "language_info": {
   "name": "python"
  }
 },
 "nbformat": 4,
 "nbformat_minor": 0
}
