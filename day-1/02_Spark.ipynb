{
 "cells": [
  {
   "cell_type": "markdown",
   "metadata": {
    "application/vnd.databricks.v1+cell": {
     "cellMetadata": {},
     "inputWidgets": {},
     "nuid": "c7bb5388-82ab-4cf1-9975-6ccaef628429",
     "showTitle": false,
     "tableResultSettingsMap": {},
     "title": ""
    }
   },
   "source": [
    "DE：bigdata、DS：python/pandas\n",
    "\n",
    "RDD Programming Guide  \n",
    "https://spark.apache.org/docs/latest/rdd-programming-guide.html  \n",
    "\n",
    "サンプルを通じたPandasとPySparkデータフレームの比較\n",
    "https://qiita.com/taka_yayoi/items/5f1ab08c6a97ba96bb1f\n",
    "\n",
    "\n",
    "今さら聞けないPython - Sparkのご紹介\n",
    "https://qiita.com/taka_yayoi/items/5415db284b96c7c60d44"
   ]
  }
 ],
 "metadata": {
  "application/vnd.databricks.v1+notebook": {
   "computePreferences": null,
   "dashboards": [],
   "environmentMetadata": {
    "base_environment": "",
    "client": "1"
   },
   "language": "python",
   "notebookMetadata": {
    "pythonIndentUnit": 4
   },
   "notebookName": "02_Spark",
   "widgets": {}
  },
  "language_info": {
   "name": "python"
  }
 },
 "nbformat": 4,
 "nbformat_minor": 0
}
