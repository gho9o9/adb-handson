{
 "cells": [
  {
   "cell_type": "markdown",
   "metadata": {
    "application/vnd.databricks.v1+cell": {
     "cellMetadata": {
      "byteLimit": 2048000,
      "rowLimit": 10000
     },
     "inputWidgets": {},
     "nuid": "3085d655-6072-4dc3-8a44-6a6b3498840c",
     "showTitle": false,
     "tableResultSettingsMap": {},
     "title": ""
    }
   },
   "source": [
    "### 注意\n",
    "解説のわかりやすさのため一部で hive_metastore を利用する & ストレージを直接参照する ため本ノートブックの実行は汎用クラスタを利用してください（いずれのオペレーションもセキュリティ観点で非推奨であり Serverless からのオペレーションはサポートされないため）。\n",
    "\n",
    "\n",
    "★ わかりやすくするために一時的に hive を利用  \n",
    "★ 自動optimizzeを無効化  \n",
    "https://learn.microsoft.com/ja-jp/azure/databricks/delta/tune-file-size#auto-optimize  \n",
    "https://learn.microsoft.com/ja-jp/azure/databricks/sql/language-manual/sql-ref-syntax-ddl-tblproperties"
   ]
  },
  {
   "cell_type": "code",
   "execution_count": 0,
   "metadata": {
    "application/vnd.databricks.v1+cell": {
     "cellMetadata": {
      "byteLimit": 2048000,
      "implicitDf": true,
      "rowLimit": 10000
     },
     "inputWidgets": {},
     "nuid": "c946d6f2-c5ad-4e10-9083-bb0d4cd00772",
     "showTitle": false,
     "tableResultSettingsMap": {},
     "title": ""
    }
   },
   "outputs": [],
   "source": [
    "%run .././include/handson.h"
   ]
  },
  {
   "cell_type": "code",
   "execution_count": 0,
   "metadata": {
    "application/vnd.databricks.v1+cell": {
     "cellMetadata": {
      "byteLimit": 2048000,
      "rowLimit": 10000
     },
     "inputWidgets": {},
     "nuid": "ee5d380e-e4e5-40b1-ae8c-8ecaa452171a",
     "showTitle": false,
     "tableResultSettingsMap": {},
     "title": ""
    }
   },
   "outputs": [],
   "source": [
    "%python\n",
    "# SQL コンテキスト用パラメータ定義（spark.conf.set はサーバレス未サポートのため Widgets でパラメータ定義する）\n",
    "dbutils.widgets.text(\"sample_dataset_path\", sample_dataset_path)\n",
    "dbutils.widgets.text(\"your_catalog\", your_catalog)\n",
    "dbutils.widgets.text(\"your_schema\", your_schema)"
   ]
  },
  {
   "cell_type": "markdown",
   "metadata": {
    "application/vnd.databricks.v1+cell": {
     "cellMetadata": {
      "byteLimit": 2048000,
      "rowLimit": 10000
     },
     "inputWidgets": {},
     "nuid": "e1df950c-4390-4cae-a432-8f2b46dd3a13",
     "showTitle": false,
     "tableResultSettingsMap": {},
     "title": ""
    }
   },
   "source": [
    "# Delta Lake の構造"
   ]
  },
  {
   "cell_type": "code",
   "execution_count": 0,
   "metadata": {
    "application/vnd.databricks.v1+cell": {
     "cellMetadata": {
      "byteLimit": 2048000,
      "rowLimit": 10000
     },
     "inputWidgets": {},
     "nuid": "f2f2f8bb-2669-4298-98d1-cdf80811bda5",
     "showTitle": false,
     "tableResultSettingsMap": {},
     "title": ""
    }
   },
   "outputs": [],
   "source": [
    "USE CATALOG hive_metastore;\n",
    "CREATE SCHEMA IF NOT EXISTS ${your_schema};\n",
    "USE SCHEMA ${your_schema};"
   ]
  },
  {
   "cell_type": "markdown",
   "metadata": {
    "application/vnd.databricks.v1+cell": {
     "cellMetadata": {
      "byteLimit": 2048000,
      "rowLimit": 10000
     },
     "inputWidgets": {},
     "nuid": "4fc7586c-d561-48e5-be0b-7a9722714004",
     "showTitle": false,
     "tableResultSettingsMap": {},
     "title": ""
    }
   },
   "source": [
    "## ヒストリーを持つDeltaテーブルの作成\n",
    "\n",
    "このクエリの実行を待っている間、実行されているトランザクションの合計数を特定できるか試してみてください。"
   ]
  },
  {
   "cell_type": "code",
   "execution_count": 0,
   "metadata": {
    "application/vnd.databricks.v1+cell": {
     "cellMetadata": {
      "byteLimit": 2048000,
      "rowLimit": 10000
     },
     "inputWidgets": {},
     "nuid": "ac1c7d45-c705-42d3-9cff-c7a7fe209b0b",
     "showTitle": false,
     "tableResultSettingsMap": {},
     "title": ""
    }
   },
   "outputs": [],
   "source": [
    "DROP TABLE IF EXISTS students;\n",
    "CREATE OR REPLACE TABLE students\n",
    "  (id INT, name STRING, value DOUBLE)\n",
    "--  TBLPROPERTIES(delta.autoOptimize.autoCompact = false, delta.autoOptimize.optimizeWrite = false) -- 10.4 LTS 以降は無効不可\n",
    ";\n",
    "\n",
    "INSERT INTO students VALUES (1, \"Yve\", 1.0);\n",
    "INSERT INTO students VALUES (2, \"Omar\", 2.5);\n",
    "INSERT INTO students VALUES (3, \"Elia\", 3.3);\n",
    "\n",
    "INSERT INTO students\n",
    "VALUES \n",
    "  (4, \"Ted\", 4.7),\n",
    "  (5, \"Tiffany\", 5.5),\n",
    "  (6, \"Vini\", 6.3);\n",
    "  \n",
    "UPDATE students \n",
    "SET value = value + 1\n",
    "WHERE name LIKE \"T%\";\n",
    "\n",
    "DELETE FROM students \n",
    "WHERE value > 6;\n",
    "\n",
    "CREATE OR REPLACE TEMP VIEW updates(id, name, value, type) AS VALUES\n",
    "  (2, \"Omar\", 15.2, \"update\"),\n",
    "  (3, \"\", null, \"delete\"),\n",
    "  (7, \"Blue\", 7.7, \"insert\"),\n",
    "  (11, \"Diya\", 8.8, \"update\");\n",
    "  \n",
    "MERGE INTO students b\n",
    "USING updates u\n",
    "ON b.id=u.id\n",
    "WHEN MATCHED AND u.type = \"update\"\n",
    "  THEN UPDATE SET *\n",
    "WHEN MATCHED AND u.type = \"delete\"\n",
    "  THEN DELETE\n",
    "WHEN NOT MATCHED AND u.type = \"insert\"\n",
    "  THEN INSERT *;"
   ]
  },
  {
   "cell_type": "code",
   "execution_count": 0,
   "metadata": {
    "application/vnd.databricks.v1+cell": {
     "cellMetadata": {
      "byteLimit": 2048000,
      "rowLimit": 10000
     },
     "inputWidgets": {},
     "nuid": "eb73a771-c3c4-47ef-b535-fdddcdd729c3",
     "showTitle": false,
     "tableResultSettingsMap": {},
     "title": ""
    }
   },
   "outputs": [],
   "source": [
    "DESCRIBE HISTORY students;"
   ]
  },
  {
   "cell_type": "markdown",
   "metadata": {
    "application/vnd.databricks.v1+cell": {
     "cellMetadata": {
      "byteLimit": 2048000,
      "rowLimit": 10000
     },
     "inputWidgets": {},
     "nuid": "2969e731-25e3-479c-85c4-e0ddc408ba31",
     "showTitle": false,
     "tableResultSettingsMap": {},
     "title": ""
    }
   },
   "source": [
    "## テーブルの詳細を調べる\n",
    "\n",
    "デフォルトでDatabricksはHiveメタストアを使用してスキーマ、テーブル、およびビューを登録します。\n",
    "\n",
    "**`DESCRIBE EXTENDED`** を使用すると、テーブルに関する重要なメタデータを表示できます。"
   ]
  },
  {
   "cell_type": "code",
   "execution_count": 0,
   "metadata": {
    "application/vnd.databricks.v1+cell": {
     "cellMetadata": {
      "byteLimit": 2048000,
      "rowLimit": 10000
     },
     "inputWidgets": {},
     "nuid": "75c94853-4246-4eb5-b9b7-0829ae50ab47",
     "showTitle": false,
     "tableResultSettingsMap": {},
     "title": ""
    }
   },
   "outputs": [],
   "source": [
    "DESCRIBE EXTENDED students;"
   ]
  },
  {
   "cell_type": "markdown",
   "metadata": {
    "application/vnd.databricks.v1+cell": {
     "cellMetadata": {
      "byteLimit": 2048000,
      "rowLimit": 10000
     },
     "inputWidgets": {},
     "nuid": "da5c7580-d1a6-47a7-a1f6-41b6ab4622ea",
     "showTitle": false,
     "tableResultSettingsMap": {},
     "title": ""
    }
   },
   "source": [
    "**`DESCRIBE DETAIL`** は、テーブルのメタデータを探索するための別のコマンドです。\n"
   ]
  },
  {
   "cell_type": "code",
   "execution_count": 0,
   "metadata": {
    "application/vnd.databricks.v1+cell": {
     "cellMetadata": {
      "byteLimit": 2048000,
      "rowLimit": 10000
     },
     "inputWidgets": {},
     "nuid": "236ac587-bb4c-4646-a99b-de0454c85ac0",
     "showTitle": false,
     "tableResultSettingsMap": {},
     "title": ""
    }
   },
   "outputs": [],
   "source": [
    "DESCRIBE DETAIL students;"
   ]
  },
  {
   "cell_type": "markdown",
   "metadata": {
    "application/vnd.databricks.v1+cell": {
     "cellMetadata": {
      "byteLimit": 2048000,
      "rowLimit": 10000
     },
     "inputWidgets": {},
     "nuid": "acd89941-edda-4022-a5fa-c8bcdcb1b9ff",
     "showTitle": false,
     "tableResultSettingsMap": {},
     "title": ""
    }
   },
   "source": [
    "**`Location`** フィールドに注目してください。\n",
    "\n",
    "これまで、私たちはテーブルを単なるスキーマ内の関係的なエンティティとして考えていましたが、Delta Lakeテーブルは実際にはクラウドオブジェクトストレージに格納されたファイルのコレクションでサポートされています。"
   ]
  },
  {
   "cell_type": "markdown",
   "metadata": {
    "application/vnd.databricks.v1+cell": {
     "cellMetadata": {
      "byteLimit": 2048000,
      "rowLimit": 10000
     },
     "inputWidgets": {},
     "nuid": "7602d343-3d84-4fb1-bf98-5f059a6db339",
     "showTitle": false,
     "tableResultSettingsMap": {},
     "title": ""
    }
   },
   "source": [
    "## Delta Lakeファイルを探索する\n",
    "\n",
    "Databricksのユーティリティ関数を使用して、Delta Lakeテーブルをサポートするファイルを見ることができます。\n",
    "\n",
    "**注意**: Delta Lakeを操作するためにこれらのファイルのすべてを知る必要はありませんが、技術がどのように実装されているかを理解するのに役立ちます。"
   ]
  },
  {
   "cell_type": "code",
   "execution_count": 0,
   "metadata": {
    "application/vnd.databricks.v1+cell": {
     "cellMetadata": {
      "byteLimit": 2048000,
      "rowLimit": 10000
     },
     "inputWidgets": {},
     "nuid": "41e7d9a9-dbd4-4dcf-b374-17f9df55fc6d",
     "showTitle": false,
     "tableResultSettingsMap": {},
     "title": ""
    }
   },
   "outputs": [],
   "source": [
    "%python\n",
    "tbl_location = spark.sql(\"DESCRIBE DETAIL students\").first().location\n",
    "data_files = dbutils.fs.ls(tbl_location)\n",
    "display(data_files)\n"
   ]
  },
  {
   "cell_type": "markdown",
   "metadata": {
    "application/vnd.databricks.v1+cell": {
     "cellMetadata": {
      "byteLimit": 2048000,
      "rowLimit": 10000
     },
     "inputWidgets": {},
     "nuid": "a580f427-4cda-49cf-9eb3-48c363ac69ea",
     "showTitle": false,
     "tableResultSettingsMap": {},
     "title": ""
    }
   },
   "source": [
    "ディレクトリにはいくつかのParquetデータファイルと、 **`_delta_log`** という名前のディレクトリが含まれていることに注意してください。\n",
    "\n",
    "Delta Lakeテーブルのレコードは、Parquetファイル内のデータとして保存されます。\n",
    "\n",
    "Delta Lakeテーブルへのトランザクションは、 **`_delta_log`** に記録されます。\n",
    "\n",
    "**`_delta_log`** 内部をのぞいて詳細を確認できます。"
   ]
  },
  {
   "cell_type": "code",
   "execution_count": 0,
   "metadata": {
    "application/vnd.databricks.v1+cell": {
     "cellMetadata": {
      "byteLimit": 2048000,
      "rowLimit": 10000
     },
     "inputWidgets": {},
     "nuid": "867dd547-70fd-4b4e-bb59-3a31eadb2f4b",
     "showTitle": false,
     "tableResultSettingsMap": {},
     "title": ""
    }
   },
   "outputs": [],
   "source": [
    "%python\n",
    "log_files = dbutils.fs.ls(tbl_location + \"/_delta_log\")\n",
    "display(log_files)"
   ]
  },
  {
   "cell_type": "markdown",
   "metadata": {
    "application/vnd.databricks.v1+cell": {
     "cellMetadata": {
      "byteLimit": 2048000,
      "rowLimit": 10000
     },
     "inputWidgets": {},
     "nuid": "1f4afc9a-b003-4341-b104-07b68b47f97c",
     "showTitle": false,
     "tableResultSettingsMap": {},
     "title": ""
    }
   },
   "source": [
    "各トランザクションは、Delta Lakeトランザクションログに新しいJSONファイルが書き込まれる結果としています。ここでは、このテーブルに対して合計 10 のトランザクションがあることがわかります（Delta Lakeは0から始まるインデックスです）。  \n",
    "\n",
    "★ Databricks Runtime 10.4 LTS 以降では、自動圧縮と最適化された書き込みが、MERGE、UPDATE、DELETE の各操作に対して常に有効\n",
    "https://learn.microsoft.com/ja-jp/azure/databricks/delta/tune-file-size  "
   ]
  },
  {
   "cell_type": "code",
   "execution_count": 0,
   "metadata": {
    "application/vnd.databricks.v1+cell": {
     "cellMetadata": {
      "byteLimit": 2048000,
      "rowLimit": 10000
     },
     "inputWidgets": {},
     "nuid": "ca6f0870-5e02-417b-9314-f7e85331d757",
     "showTitle": false,
     "tableResultSettingsMap": {},
     "title": ""
    }
   },
   "outputs": [],
   "source": [
    "DESCRIBE HISTORY students;"
   ]
  },
  {
   "cell_type": "markdown",
   "metadata": {
    "application/vnd.databricks.v1+cell": {
     "cellMetadata": {
      "byteLimit": 2048000,
      "rowLimit": 10000
     },
     "inputWidgets": {},
     "nuid": "54aa8087-000b-4f3a-b673-11aa0344596f",
     "showTitle": false,
     "tableResultSettingsMap": {},
     "title": ""
    }
   },
   "source": [
    "## データファイルについての考察\n",
    "\n",
    "明らかに非常に小さなテーブルに対して多くのデータファイルを見ました。\n",
    "\n",
    "**`DESCRIBE DETAIL`** を使用すると、デルタテーブルに関する他の詳細を見ることができます。ファイルの数も含まれています。"
   ]
  },
  {
   "cell_type": "code",
   "execution_count": 0,
   "metadata": {
    "application/vnd.databricks.v1+cell": {
     "cellMetadata": {
      "byteLimit": 2048000,
      "rowLimit": 10000
     },
     "inputWidgets": {},
     "nuid": "12a15a0f-c0c3-4314-a7c5-19f99c1b78b5",
     "showTitle": false,
     "tableResultSettingsMap": {},
     "title": ""
    }
   },
   "outputs": [],
   "source": [
    "DESCRIBE DETAIL students;"
   ]
  },
  {
   "cell_type": "markdown",
   "metadata": {
    "application/vnd.databricks.v1+cell": {
     "cellMetadata": {
      "byteLimit": 2048000,
      "rowLimit": 10000
     },
     "inputWidgets": {},
     "nuid": "764251bf-c29f-4e7e-841b-b12edc4f3a95",
     "showTitle": false,
     "tableResultSettingsMap": {},
     "title": ""
    }
   },
   "source": [
    "ここでは、該当テーブルにおける最新バージョンで有効なデータファイル数が確認できます。  \n",
    "\n",
    "★ DeltaLakeは内部的にメタデータを保持しており _metadata.* 列としてアクセス可能"
   ]
  },
  {
   "cell_type": "code",
   "execution_count": 0,
   "metadata": {
    "application/vnd.databricks.v1+cell": {
     "cellMetadata": {
      "byteLimit": 2048000,
      "rowLimit": 10000
     },
     "inputWidgets": {},
     "nuid": "25f5fa52-8c12-45fb-bbaa-c22b8c354241",
     "showTitle": false,
     "tableResultSettingsMap": {},
     "title": ""
    }
   },
   "outputs": [],
   "source": [
    "SELECT _metadata.file_name FROM students GROUP BY _metadata.file_name;"
   ]
  },
  {
   "cell_type": "markdown",
   "metadata": {
    "application/vnd.databricks.v1+cell": {
     "cellMetadata": {
      "byteLimit": 2048000,
      "rowLimit": 10000
     },
     "inputWidgets": {},
     "nuid": "c60d343b-9e6f-4be5-89d4-244d22aa3d29",
     "showTitle": false,
     "tableResultSettingsMap": {},
     "title": ""
    }
   },
   "source": [
    "これはテーブルディレクトリにあるその他のParquetファイルの合計数よりも小さいのはなぜでしょう？\n",
    "\n",
    "Delta Lakeは、変更されたデータを含むファイルを直ちに上書きまたは削除せず、トランザクションログを使用してファイルがテーブルの現在のバージョンで有効かどうかを示します。\n",
    "\n",
    "ここでは、上記の **`MERGE`** ステートメントに対応するトランザクションログを見てみます。ここで、レコードが挿入、更新、削除されました。"
   ]
  },
  {
   "cell_type": "code",
   "execution_count": 0,
   "metadata": {
    "application/vnd.databricks.v1+cell": {
     "cellMetadata": {
      "byteLimit": 2048000,
      "rowLimit": 10000
     },
     "inputWidgets": {},
     "nuid": "653a4f85-7d5c-48d4-a660-2d557b0f4b12",
     "showTitle": false,
     "tableResultSettingsMap": {},
     "title": ""
    }
   },
   "outputs": [],
   "source": [
    "%python\n",
    "display(spark.sql(f\"SELECT * FROM json.`{tbl_location}/_delta_log/00000000000000000008.json`\"))"
   ]
  },
  {
   "cell_type": "markdown",
   "metadata": {
    "application/vnd.databricks.v1+cell": {
     "cellMetadata": {
      "byteLimit": 2048000,
      "rowLimit": 10000
     },
     "inputWidgets": {},
     "nuid": "df5da233-31f9-4ea2-bb01-98d84373861f",
     "showTitle": false,
     "tableResultSettingsMap": {},
     "title": ""
    }
   },
   "source": [
    "**`add`** 列には、テーブルに書き込まれたすべての新しいファイルのリストが含まれており、**`remove`** 列はもはやテーブルに含まれていてはいけないファイルを示しています。\n",
    "\n",
    "Delta Lakeテーブルをクエリするとき、クエリエンジンはトランザクションログを使用して、現在のバージョンで有効なすべてのファイルを解決し、他のすべてのデータファイルを無視します。"
   ]
  },
  {
   "cell_type": "code",
   "execution_count": 0,
   "metadata": {
    "application/vnd.databricks.v1+cell": {
     "cellMetadata": {
      "byteLimit": 2048000,
      "rowLimit": 10000
     },
     "inputWidgets": {},
     "nuid": "b459c6ad-60c2-4fb2-b277-838b428d3848",
     "showTitle": false,
     "tableResultSettingsMap": {},
     "title": ""
    }
   },
   "outputs": [],
   "source": [
    "INSERT INTO students VALUES (11, \"oota\", 1.1);\n",
    "INSERT INTO students VALUES (12, \"tomo\", 2.2);\n",
    "INSERT INTO students VALUES (13, \"yuki\", 3.3);"
   ]
  },
  {
   "cell_type": "code",
   "execution_count": 0,
   "metadata": {
    "application/vnd.databricks.v1+cell": {
     "cellMetadata": {
      "byteLimit": 2048000,
      "rowLimit": 10000
     },
     "inputWidgets": {},
     "nuid": "dd1187bd-9144-4184-b393-72e598318b3d",
     "showTitle": false,
     "tableResultSettingsMap": {},
     "title": ""
    }
   },
   "outputs": [],
   "source": [
    "DESCRIBE HISTORY students;"
   ]
  },
  {
   "cell_type": "code",
   "execution_count": 0,
   "metadata": {
    "application/vnd.databricks.v1+cell": {
     "cellMetadata": {
      "byteLimit": 2048000,
      "rowLimit": 10000
     },
     "inputWidgets": {},
     "nuid": "b276009b-e3a2-4c29-860f-e28236c9b1f6",
     "showTitle": false,
     "tableResultSettingsMap": {},
     "title": ""
    }
   },
   "outputs": [],
   "source": [
    "SELECT _metadata.file_name FROM students GROUP BY _metadata.file_name;"
   ]
  },
  {
   "cell_type": "markdown",
   "metadata": {
    "application/vnd.databricks.v1+cell": {
     "cellMetadata": {
      "byteLimit": 2048000,
      "rowLimit": 10000
     },
     "inputWidgets": {},
     "nuid": "2e4fd6df-b472-48d8-be5b-b4c25f3d3fdd",
     "showTitle": false,
     "tableResultSettingsMap": {},
     "title": ""
    }
   },
   "source": [
    "## 小さなファイルの圧縮とインデックスの作成\n",
    "\n",
    "小さなファイルはさまざまな理由で発生する可能性があります。私たちの場合、1つまたは数レコードだけが挿入された操作をいくつか実行しました。\n",
    "\n",
    "ファイルは、**`OPTIMIZE`** コマンドを使用して最適なサイズに結合されます（テーブルのサイズに基づいてスケーリングされます）。\n",
    "\n",
    "**`OPTIMIZE`** は、既存のデータファイルを置き換え、レコードを結合して結果を書き直します。\n",
    "\n",
    "**`OPTIMIZE`** を実行する際、ユーザーは任意で**`ZORDER`** インデックスのための1つまたは複数のフィールドを指定できます。Z-orderの具体的な数学は重要ではありませんが、提供されたフィールドでフィルタリングを行う際にデータを同じ値を持つデータファイル内に配置することでデータの取得を高速化します。"
   ]
  },
  {
   "cell_type": "code",
   "execution_count": 0,
   "metadata": {
    "application/vnd.databricks.v1+cell": {
     "cellMetadata": {
      "byteLimit": 2048000,
      "rowLimit": 10000
     },
     "inputWidgets": {},
     "nuid": "4764da55-a8a9-4826-9e0e-51355a29b97f",
     "showTitle": false,
     "tableResultSettingsMap": {},
     "title": ""
    }
   },
   "outputs": [],
   "source": [
    "OPTIMIZE students ZORDER BY id;"
   ]
  },
  {
   "cell_type": "code",
   "execution_count": 0,
   "metadata": {
    "application/vnd.databricks.v1+cell": {
     "cellMetadata": {
      "byteLimit": 2048000,
      "rowLimit": 10000
     },
     "inputWidgets": {},
     "nuid": "f25bc5f2-cd35-44b8-a424-7ad8a86c0aae",
     "showTitle": false,
     "tableResultSettingsMap": {},
     "title": ""
    }
   },
   "outputs": [],
   "source": [
    "SELECT _metadata.file_name FROM students GROUP BY _metadata.file_name;"
   ]
  },
  {
   "cell_type": "code",
   "execution_count": 0,
   "metadata": {
    "application/vnd.databricks.v1+cell": {
     "cellMetadata": {
      "byteLimit": 2048000,
      "rowLimit": 10000
     },
     "inputWidgets": {},
     "nuid": "c523edc2-3b5a-4fb2-855e-8a2ee48a2008",
     "showTitle": false,
     "tableResultSettingsMap": {},
     "title": ""
    }
   },
   "outputs": [],
   "source": [
    "DESCRIBE HISTORY students;"
   ]
  },
  {
   "cell_type": "markdown",
   "metadata": {
    "application/vnd.databricks.v1+cell": {
     "cellMetadata": {
      "byteLimit": 2048000,
      "rowLimit": 10000
     },
     "inputWidgets": {},
     "nuid": "2fe9ab16-591e-497f-aae3-7c6431fb740f",
     "showTitle": false,
     "tableResultSettingsMap": {},
     "title": ""
    }
   },
   "source": [
    "予想通り、**`OPTIMIZE`** は私たちのテーブルの別のバージョンを作成し、バージョン8が最新のバージョンであることを意味します。\n",
    "\n",
    "トランザクションログで削除されたとマークされた余分なデータファイルを覚えていますか？これらは、テーブルの以前のバージョンをクエリする機能を提供しています。\n",
    "\n",
    "これらのタイムトラベルクエリは、整数のバージョンまたはタイムスタンプを指定して実行できます。\n",
    "\n",
    "**注意**: ほとんどの場合、興味のある時点でデータを再作成するためにタイムスタンプを使用します。デモではバージョンを使用しますが、これは確定的です（将来の任意のタイミングでデモを実行する可能性があるため）。"
   ]
  },
  {
   "cell_type": "code",
   "execution_count": 0,
   "metadata": {
    "application/vnd.databricks.v1+cell": {
     "cellMetadata": {
      "byteLimit": 2048000,
      "rowLimit": 10000
     },
     "inputWidgets": {},
     "nuid": "3402dbae-4010-4d57-b039-f3ba5af7a929",
     "showTitle": false,
     "tableResultSettingsMap": {},
     "title": ""
    }
   },
   "outputs": [],
   "source": [
    "SELECT * FROM students VERSION AS OF 3 ORDER BY id;"
   ]
  },
  {
   "cell_type": "markdown",
   "metadata": {
    "application/vnd.databricks.v1+cell": {
     "cellMetadata": {
      "byteLimit": 2048000,
      "rowLimit": 10000
     },
     "inputWidgets": {},
     "nuid": "0e3e76af-7ad7-437f-92cf-7a0bbce0ea33",
     "showTitle": false,
     "tableResultSettingsMap": {},
     "title": ""
    }
   },
   "source": [
    "## バージョンをロールバックする\n",
    "\n",
    "テーブルから一部のレコードを手動で削除するクエリを入力しようとして、次の状態でこのクエリを誤って実行したと仮定しましょう。"
   ]
  },
  {
   "cell_type": "code",
   "execution_count": 0,
   "metadata": {
    "application/vnd.databricks.v1+cell": {
     "cellMetadata": {
      "byteLimit": 2048000,
      "rowLimit": 10000
     },
     "inputWidgets": {},
     "nuid": "c325ca59-5099-49f9-8939-8bde3143f93b",
     "showTitle": false,
     "tableResultSettingsMap": {},
     "title": ""
    }
   },
   "outputs": [],
   "source": [
    "DELETE FROM students;\n",
    "\n",
    "SELECT * FROM students;"
   ]
  },
  {
   "cell_type": "markdown",
   "metadata": {
    "application/vnd.databricks.v1+cell": {
     "cellMetadata": {
      "byteLimit": 2048000,
      "rowLimit": 10000
     },
     "inputWidgets": {},
     "nuid": "1918081b-785b-4c8d-9008-557e982e3af1",
     "showTitle": false,
     "tableResultSettingsMap": {},
     "title": ""
    }
   },
   "source": [
    "テーブルのすべてのレコードを削除することはおそらく望ましくありません。幸い、このコミットを簡単にロールバックできます。"
   ]
  },
  {
   "cell_type": "code",
   "execution_count": 0,
   "metadata": {
    "application/vnd.databricks.v1+cell": {
     "cellMetadata": {
      "byteLimit": 2048000,
      "rowLimit": 10000
     },
     "inputWidgets": {},
     "nuid": "d9433146-1548-447c-a231-51749abcc47b",
     "showTitle": false,
     "tableResultSettingsMap": {},
     "title": ""
    }
   },
   "outputs": [],
   "source": [
    "RESTORE TABLE students TO VERSION AS OF 13;\n",
    "\n",
    "SELECT * FROM students ORDER BY id;"
   ]
  },
  {
   "cell_type": "markdown",
   "metadata": {
    "application/vnd.databricks.v1+cell": {
     "cellMetadata": {
      "byteLimit": 2048000,
      "rowLimit": 10000
     },
     "inputWidgets": {},
     "nuid": "745c8890-b797-4695-88a5-7c27cb851022",
     "showTitle": false,
     "tableResultSettingsMap": {},
     "title": ""
    }
   },
   "source": [
    "**`RESTORE`** <a href=\"https://docs.databricks.com/spark/latest/spark-sql/language-manual/delta-restore.html\" target=\"_blank\">コマンド</a> はトランザクションとして記録されます。テーブルのすべてのレコードを誤って削除した事実を完全に隠すことはできませんが、操作を元に戻し、テーブルを望ましい状態に戻すことはできます。"
   ]
  },
  {
   "cell_type": "code",
   "execution_count": 0,
   "metadata": {
    "application/vnd.databricks.v1+cell": {
     "cellMetadata": {
      "byteLimit": 2048000,
      "rowLimit": 10000
     },
     "inputWidgets": {},
     "nuid": "a7b727ad-eab0-4e6b-9057-7a751ec5176f",
     "showTitle": false,
     "tableResultSettingsMap": {},
     "title": ""
    }
   },
   "outputs": [],
   "source": [
    "DESCRIBE HISTORY students;"
   ]
  },
  {
   "cell_type": "code",
   "execution_count": 0,
   "metadata": {
    "application/vnd.databricks.v1+cell": {
     "cellMetadata": {
      "byteLimit": 2048000,
      "rowLimit": 10000
     },
     "inputWidgets": {},
     "nuid": "b405339f-c452-43b4-9107-85c956fbe077",
     "showTitle": false,
     "tableResultSettingsMap": {},
     "title": ""
    }
   },
   "outputs": [],
   "source": [
    "%python\n",
    "tbl_location = spark.sql(\"DESCRIBE DETAIL students\").first().location\n",
    "data_files = dbutils.fs.ls(tbl_location)\n",
    "display(data_files)"
   ]
  },
  {
   "cell_type": "markdown",
   "metadata": {
    "application/vnd.databricks.v1+cell": {
     "cellMetadata": {
      "byteLimit": 2048000,
      "rowLimit": 10000
     },
     "inputWidgets": {},
     "nuid": "78991492-dccd-4586-aba5-78bc6fcbf810",
     "showTitle": false,
     "tableResultSettingsMap": {},
     "title": ""
    }
   },
   "source": [
    "## 古いファイルをクリーンアップする\n",
    "\n",
    "DatabricksはDelta Lakeテーブル内の古いログファイル（デフォルトでは30日以上）を自動的にクリーンアップします。\n",
    "チェックポイントが書き込まれるたびに、Databricksはこの保持期間よりも古いログエントリを自動的にクリーンアップします。\n",
    "\n",
    "Delta Lakeのバージョニングとタイムトラベルは、最新バージョンのクエリとクエリのロールバックには適していますが、大規模な本番テーブルのすべてのバージョンのデータファイルを無期限に保持することは非常に高価です（また、PIIが存在する場合、コンプライアンスの問題につながる可能性があります）。\n",
    "\n",
    "古いデータファイルを手動で削除する場合、これは **`VACUUM`** 操作で実行できます。\n",
    "\n",
    "次のセルのコメントを解除し、 **`0 HOURS`** の保持期間で実行して、現在のバージョンのみを保持できます："
   ]
  },
  {
   "cell_type": "code",
   "execution_count": 0,
   "metadata": {
    "application/vnd.databricks.v1+cell": {
     "cellMetadata": {
      "byteLimit": 2048000,
      "rowLimit": 10000
     },
     "inputWidgets": {},
     "nuid": "7c836372-58db-4b85-91d8-dc1f4472d18c",
     "showTitle": false,
     "tableResultSettingsMap": {},
     "title": ""
    }
   },
   "outputs": [],
   "source": [
    "-- VACUUM students RETAIN 0 HOURS;"
   ]
  },
  {
   "cell_type": "markdown",
   "metadata": {
    "application/vnd.databricks.v1+cell": {
     "cellMetadata": {
      "byteLimit": 2048000,
      "rowLimit": 10000
     },
     "inputWidgets": {},
     "nuid": "1b72d255-a90d-428c-94a3-fea43bd22164",
     "showTitle": false,
     "tableResultSettingsMap": {},
     "title": ""
    }
   },
   "source": [
    "デフォルトでは、**`VACUUM`** は7日未満のファイルを削除しないようにします。これは、削除対象のファイルを参照している長時間実行される操作がないことを確認するためです。Deltaテーブルで**`VACUUM`** を実行すると、指定されたデータ保持期間よりも古いバージョンにタイムトラベルする能力が失われます。デモでは、**`0 HOURS`** の保持を指定するコードを実行する場面があるかもしれません。これは単にその機能をデモするためであり、通常は本番環境では行いません。\n",
    "\n",
    "次のセルでは、次の操作を行います：\n",
    "1. データファイルの早期削除を防ぐチェックを無効にする\n",
    "2. **`VACUUM`** コマンドのログ記録を有効にする\n",
    "3. ドライランバージョンの **`VACUUM`** を使用して削除されるすべてのレコードを表示します"
   ]
  },
  {
   "cell_type": "code",
   "execution_count": 0,
   "metadata": {
    "application/vnd.databricks.v1+cell": {
     "cellMetadata": {
      "byteLimit": 2048000,
      "rowLimit": 10000
     },
     "inputWidgets": {},
     "nuid": "b2c17300-a3e4-434e-a576-4a89432d3bb7",
     "showTitle": false,
     "tableResultSettingsMap": {},
     "title": ""
    }
   },
   "outputs": [],
   "source": [
    "ALTER TABLE students SET TBLPROPERTIES ('delta.deletedFileRetentionDuration' = '0 HOURS');"
   ]
  },
  {
   "cell_type": "code",
   "execution_count": 0,
   "metadata": {
    "application/vnd.databricks.v1+cell": {
     "cellMetadata": {
      "byteLimit": 2048000,
      "rowLimit": 10000
     },
     "inputWidgets": {},
     "nuid": "ad636831-ecf2-4d35-b707-302e479523b7",
     "showTitle": false,
     "tableResultSettingsMap": {},
     "title": ""
    }
   },
   "outputs": [],
   "source": [
    "VACUUM students RETAIN 0 HOURS DRY RUN;"
   ]
  },
  {
   "cell_type": "code",
   "execution_count": 0,
   "metadata": {
    "application/vnd.databricks.v1+cell": {
     "cellMetadata": {
      "byteLimit": 2048000,
      "rowLimit": 10000
     },
     "inputWidgets": {},
     "nuid": "4a3601fa-3b19-42c4-8d8e-b0077ad97892",
     "showTitle": false,
     "tableResultSettingsMap": {},
     "title": ""
    }
   },
   "outputs": [],
   "source": [
    "%python\n",
    "tbl_location = spark.sql(\"DESCRIBE DETAIL students\").first().location\n",
    "data_files = dbutils.fs.ls(tbl_location)\n",
    "display(data_files)"
   ]
  },
  {
   "cell_type": "markdown",
   "metadata": {
    "application/vnd.databricks.v1+cell": {
     "cellMetadata": {
      "byteLimit": 2048000,
      "rowLimit": 10000
     },
     "inputWidgets": {},
     "nuid": "7214b123-6d43-4b8c-aa97-c6c196fe7801",
     "showTitle": false,
     "tableResultSettingsMap": {},
     "title": ""
    }
   },
   "source": [
    "**`VACUUM`** を実行し、上記の10ファイルを削除することで、これらのファイルが必要とされるテーブルのバージョンへのアクセスが永久に削除されます。"
   ]
  },
  {
   "cell_type": "code",
   "execution_count": 0,
   "metadata": {
    "application/vnd.databricks.v1+cell": {
     "cellMetadata": {
      "byteLimit": 2048000,
      "rowLimit": 10000
     },
     "inputWidgets": {},
     "nuid": "398a8d28-d80f-4c37-a54a-b4a8f35c504e",
     "showTitle": false,
     "tableResultSettingsMap": {},
     "title": ""
    }
   },
   "outputs": [],
   "source": [
    "VACUUM students RETAIN 0 HOURS;"
   ]
  },
  {
   "cell_type": "code",
   "execution_count": 0,
   "metadata": {
    "application/vnd.databricks.v1+cell": {
     "cellMetadata": {
      "byteLimit": 2048000,
      "rowLimit": 10000
     },
     "inputWidgets": {},
     "nuid": "ba8fe660-16e5-413e-9226-ba3c9210b110",
     "showTitle": false,
     "tableResultSettingsMap": {},
     "title": ""
    }
   },
   "outputs": [],
   "source": [
    "%python\n",
    "tbl_location = spark.sql(\"DESCRIBE DETAIL students\").first().location\n",
    "data_files = dbutils.fs.ls(tbl_location)\n",
    "display(data_files)"
   ]
  },
  {
   "cell_type": "markdown",
   "metadata": {
    "application/vnd.databricks.v1+cell": {
     "cellMetadata": {
      "byteLimit": 2048000,
      "rowLimit": 10000
     },
     "inputWidgets": {},
     "nuid": "f1f91925-f047-4d6d-8464-c768b53de94f",
     "showTitle": false,
     "tableResultSettingsMap": {},
     "title": ""
    }
   },
   "source": [
    "# マネージドテーブル と アンマネージドテーブル"
   ]
  },
  {
   "cell_type": "code",
   "execution_count": 0,
   "metadata": {
    "application/vnd.databricks.v1+cell": {
     "cellMetadata": {
      "byteLimit": 2048000,
      "rowLimit": 10000
     },
     "inputWidgets": {},
     "nuid": "972648f1-ba33-44c2-ac7b-7d2f83ca3e4f",
     "showTitle": false,
     "tableResultSettingsMap": {},
     "title": ""
    }
   },
   "outputs": [],
   "source": [
    "USE CATALOG hive_metastore;\n",
    "CREATE SCHEMA IF NOT EXISTS ${your_schema};\n",
    "USE SCHEMA ${your_schema};"
   ]
  },
  {
   "cell_type": "markdown",
   "metadata": {
    "application/vnd.databricks.v1+cell": {
     "cellMetadata": {
      "byteLimit": 2048000,
      "rowLimit": 10000
     },
     "inputWidgets": {},
     "nuid": "ac24c4ec-8774-4fe6-9796-10646bece1f6",
     "showTitle": false,
     "tableResultSettingsMap": {},
     "title": ""
    }
   },
   "source": [
    "## マネージドテーブル"
   ]
  },
  {
   "cell_type": "code",
   "execution_count": 0,
   "metadata": {
    "application/vnd.databricks.v1+cell": {
     "cellMetadata": {
      "byteLimit": 2048000,
      "rowLimit": 10000
     },
     "inputWidgets": {},
     "nuid": "548331b9-2903-47d8-9a0c-068c1eb2e655",
     "showTitle": false,
     "tableResultSettingsMap": {},
     "title": ""
    }
   },
   "outputs": [],
   "source": [
    "CREATE OR REPLACE TABLE managed_table (width INT, length INT, height INT);\n",
    "INSERT INTO managed_table VALUES (3, 2, 1);\n",
    "SELECT * FROM managed_table;"
   ]
  },
  {
   "cell_type": "code",
   "execution_count": 0,
   "metadata": {
    "application/vnd.databricks.v1+cell": {
     "cellMetadata": {
      "byteLimit": 2048000,
      "rowLimit": 10000
     },
     "inputWidgets": {},
     "nuid": "f2ac7091-3d16-46a5-b506-b32ae645d807",
     "showTitle": false,
     "tableResultSettingsMap": {},
     "title": ""
    }
   },
   "outputs": [],
   "source": [
    "DESCRIBE DETAIL managed_table;"
   ]
  },
  {
   "cell_type": "code",
   "execution_count": 0,
   "metadata": {
    "application/vnd.databricks.v1+cell": {
     "cellMetadata": {
      "byteLimit": 2048000,
      "rowLimit": 10000
     },
     "inputWidgets": {},
     "nuid": "cae659b7-2134-40ff-b131-021628a0fd8a",
     "showTitle": false,
     "tableResultSettingsMap": {},
     "title": ""
    }
   },
   "outputs": [],
   "source": [
    "DESCRIBE EXTENDED managed_table;"
   ]
  },
  {
   "cell_type": "code",
   "execution_count": 0,
   "metadata": {
    "application/vnd.databricks.v1+cell": {
     "cellMetadata": {
      "byteLimit": 2048000,
      "rowLimit": 10000
     },
     "inputWidgets": {},
     "nuid": "2e6fb1d1-ca43-4393-ae0e-695d206c89da",
     "showTitle": false,
     "tableResultSettingsMap": {},
     "title": ""
    }
   },
   "outputs": [],
   "source": [
    "%python \n",
    "tbl_location = spark.sql(\"DESCRIBE DETAIL managed_table\").first().location\n",
    "print(\"location = \" + tbl_location)\n",
    "\n",
    "# マネージドディレクトリに対するリストコマンドの実行は Unity Catalog では未サポート\n",
    "files = dbutils.fs.ls(tbl_location)\n",
    "display(files)"
   ]
  },
  {
   "cell_type": "markdown",
   "metadata": {
    "application/vnd.databricks.v1+cell": {
     "cellMetadata": {
      "byteLimit": 2048000,
      "rowLimit": 10000
     },
     "inputWidgets": {},
     "nuid": "efb05a3e-b59a-4aa3-900e-79c83f4ac893",
     "showTitle": false,
     "tableResultSettingsMap": {},
     "title": ""
    }
   },
   "source": [
    "ファイルは外部クラウドストレージに Delta Lake フォーマットで格納されます（通常はユーザーがストレージに直接アクセスすることは推奨されません）。\n",
    "</br><img src=\"../images/deltalake.1.png\" width=\"600\"/>  "
   ]
  },
  {
   "cell_type": "markdown",
   "metadata": {
    "application/vnd.databricks.v1+cell": {
     "cellMetadata": {
      "byteLimit": 2048000,
      "rowLimit": 10000
     },
     "inputWidgets": {},
     "nuid": "2445a637-7004-4761-a8be-d1e75c04997c",
     "showTitle": false,
     "tableResultSettingsMap": {},
     "title": ""
    }
   },
   "source": [
    "マネージドテーブルはテーブルの削除によりストレージ上のデータも削除されます（ユーザーがストレージを意識することはありません）。  \n",
    "\n",
    "なお、データ削除のタイミングはテーブル削除から 30 日以内にシステム側で処理されます。  \n",
    "\n",
    "参考：[マネージド テーブルの操作](https://learn.microsoft.com/ja-jp/azure/databricks/tables/managed)"
   ]
  },
  {
   "cell_type": "code",
   "execution_count": 0,
   "metadata": {
    "application/vnd.databricks.v1+cell": {
     "cellMetadata": {
      "byteLimit": 2048000,
      "rowLimit": 10000
     },
     "inputWidgets": {},
     "nuid": "a753b0d2-6162-4fb1-8d09-3567973c63a8",
     "showTitle": false,
     "tableResultSettingsMap": {},
     "title": ""
    }
   },
   "outputs": [],
   "source": [
    "DROP TABLE managed_table;"
   ]
  },
  {
   "cell_type": "code",
   "execution_count": 0,
   "metadata": {
    "application/vnd.databricks.v1+cell": {
     "cellMetadata": {
      "byteLimit": 2048000,
      "rowLimit": 10000
     },
     "inputWidgets": {},
     "nuid": "870ca2e4-fafa-4f04-8b4e-439536f8ef93",
     "showTitle": false,
     "tableResultSettingsMap": {},
     "title": ""
    }
   },
   "outputs": [],
   "source": [
    "%python \n",
    "\n",
    "# マネージドディレクトリに対するリストコマンドの実行は Unity Catalog では未サポート\n",
    "files = dbutils.fs.ls(\"dbfs:/user/hive/warehouse/handson_tico_demo01_schema.db/\")\n",
    "display(files)"
   ]
  },
  {
   "cell_type": "markdown",
   "metadata": {
    "application/vnd.databricks.v1+cell": {
     "cellMetadata": {
      "byteLimit": 2048000,
      "rowLimit": 10000
     },
     "inputWidgets": {},
     "nuid": "9a4abb7a-647f-47f2-85d7-1b7ec3f40b85",
     "showTitle": false,
     "tableResultSettingsMap": {},
     "title": ""
    }
   },
   "source": [
    "## アンマネージドテーブル（外部テーブル）\n",
    "次に、サンプルデータから　**外部**　（非管理）テーブルを作成します。\n",
    "\n",
    "使用するデータはCSV形式です。指定したディレクトリ内の　**`LOCATION`**　を指定してDeltaテーブルを作成したいと思います。"
   ]
  },
  {
   "cell_type": "code",
   "execution_count": 0,
   "metadata": {
    "application/vnd.databricks.v1+cell": {
     "cellMetadata": {
      "byteLimit": 2048000,
      "rowLimit": 10000
     },
     "inputWidgets": {},
     "nuid": "28e27bfe-34d9-451e-bcbe-74d8e0f39f9b",
     "showTitle": false,
     "tableResultSettingsMap": {},
     "title": ""
    }
   },
   "outputs": [],
   "source": [
    "-- ★これに必要な権限が不明。。。（いったんワークスペース管理者で通す → 汎用クラスタならOK）\n",
    "CREATE OR REPLACE TEMPORARY VIEW temp_delays\n",
    "  USING CSV OPTIONS (\n",
    "    path = '${sample_dataset_path}/flights/departuredelays.csv',\n",
    "    header = \"true\",\n",
    "    mode = \"FAILFAST\" -- abort file parsing with a RuntimeException if any malformed lines are encountered\n",
    ");"
   ]
  },
  {
   "cell_type": "code",
   "execution_count": 0,
   "metadata": {
    "application/vnd.databricks.v1+cell": {
     "cellMetadata": {
      "byteLimit": 2048000,
      "rowLimit": 10000
     },
     "inputWidgets": {},
     "nuid": "860c788f-2478-4b26-bad8-a6f4ec6f76a5",
     "showTitle": false,
     "tableResultSettingsMap": {},
     "title": ""
    }
   },
   "outputs": [],
   "source": [
    "\n",
    "-- ★ UC の場合は外部ロケーションに対する CREATE EXTERNAL TABLE 権限が必要＆外部ロケーションとしてdbfsは未サポート\n",
    "CREATE OR REPLACE TABLE external_table LOCATION 'dbfs:/user/hive/warehouse/handson_tico_demo01_schema.db/external_table/' AS\n",
    "  SELECT * FROM temp_delays;\n",
    "\n",
    "SELECT * FROM external_table LIMIT 10; "
   ]
  },
  {
   "cell_type": "code",
   "execution_count": 0,
   "metadata": {
    "application/vnd.databricks.v1+cell": {
     "cellMetadata": {
      "byteLimit": 2048000,
      "rowLimit": 10000
     },
     "inputWidgets": {},
     "nuid": "9ac18d3c-1acc-44be-ac60-a29caaaf054b",
     "showTitle": false,
     "tableResultSettingsMap": {},
     "title": ""
    }
   },
   "outputs": [],
   "source": [
    "DESCRIBE DETAIL external_table;"
   ]
  },
  {
   "cell_type": "code",
   "execution_count": 0,
   "metadata": {
    "application/vnd.databricks.v1+cell": {
     "cellMetadata": {
      "byteLimit": 2048000,
      "rowLimit": 10000
     },
     "inputWidgets": {},
     "nuid": "f7219c64-badf-4a6d-a9c5-7e978e6802ec",
     "showTitle": false,
     "tableResultSettingsMap": {},
     "title": ""
    }
   },
   "outputs": [],
   "source": [
    "DESCRIBE TABLE EXTENDED external_table;"
   ]
  },
  {
   "cell_type": "code",
   "execution_count": 0,
   "metadata": {
    "application/vnd.databricks.v1+cell": {
     "cellMetadata": {
      "byteLimit": 2048000,
      "rowLimit": 10000
     },
     "inputWidgets": {},
     "nuid": "354ca774-704c-470a-a193-d71ce4963afb",
     "showTitle": false,
     "tableResultSettingsMap": {},
     "title": ""
    }
   },
   "outputs": [],
   "source": [
    "%python\n",
    "# マネージドディレクトリに対するリストコマンドの実行は Unity Catalog では未サポート\n",
    "files = dbutils.fs.ls('dbfs:/user/hive/warehouse/handson_tico_demo01_schema.db/external_table/')\n",
    "display(files)"
   ]
  },
  {
   "cell_type": "code",
   "execution_count": 0,
   "metadata": {
    "application/vnd.databricks.v1+cell": {
     "cellMetadata": {
      "byteLimit": 2048000,
      "rowLimit": 10000
     },
     "inputWidgets": {},
     "nuid": "95d925cd-b71d-4c06-bd74-b6c1c19320d9",
     "showTitle": false,
     "tableResultSettingsMap": {},
     "title": ""
    }
   },
   "outputs": [],
   "source": [
    "DROP TABLE external_table;"
   ]
  },
  {
   "cell_type": "code",
   "execution_count": 0,
   "metadata": {
    "application/vnd.databricks.v1+cell": {
     "cellMetadata": {
      "byteLimit": 2048000,
      "rowLimit": 10000
     },
     "inputWidgets": {},
     "nuid": "48b69f87-13d4-47f0-b51d-aec9268eb627",
     "showTitle": false,
     "tableResultSettingsMap": {},
     "title": ""
    }
   },
   "outputs": [],
   "source": [
    "%python \n",
    "# マネージドディレクトリに対するリストコマンドの実行は Unity Catalog では未サポート\n",
    "files = dbutils.fs.ls('dbfs:/user/hive/warehouse/handson_tico_demo01_schema.db/')\n",
    "display(files)"
   ]
  },
  {
   "cell_type": "markdown",
   "metadata": {
    "application/vnd.databricks.v1+cell": {
     "cellMetadata": {
      "byteLimit": 2048000,
      "rowLimit": 10000
     },
     "inputWidgets": {},
     "nuid": "0f2a6ae5-9df6-4226-a266-42055f204c6b",
     "showTitle": false,
     "tableResultSettingsMap": {},
     "title": ""
    }
   },
   "source": [
    "アンマネージドテーブルはテーブルの削除を行ってもストレージ上のデータは保持されます（Databricks 上のメタデータ管理とストレージ上の実データ管理は切り離されています）。  \n",
    "</br><img src=\"../images/deltalake.2.png\" width=\"600\"/>  "
   ]
  },
  {
   "cell_type": "code",
   "execution_count": 0,
   "metadata": {
    "application/vnd.databricks.v1+cell": {
     "cellMetadata": {
      "byteLimit": 2048000,
      "rowLimit": 10000
     },
     "inputWidgets": {},
     "nuid": "0752bd8d-aaea-4541-af9e-dd42abae905b",
     "showTitle": false,
     "tableResultSettingsMap": {},
     "title": ""
    }
   },
   "outputs": [],
   "source": [
    "drop schema handson_tico_demo01_schema cascade;"
   ]
  },
  {
   "cell_type": "markdown",
   "metadata": {
    "application/vnd.databricks.v1+cell": {
     "cellMetadata": {
      "byteLimit": 2048000,
      "rowLimit": 10000
     },
     "inputWidgets": {},
     "nuid": "7a2c8842-4f7a-4d6b-a140-ea59af3c7d57",
     "showTitle": false,
     "tableResultSettingsMap": {},
     "title": ""
    }
   },
   "source": [
    "# CTAS によるテーブル作成"
   ]
  },
  {
   "cell_type": "code",
   "execution_count": 0,
   "metadata": {
    "application/vnd.databricks.v1+cell": {
     "cellMetadata": {
      "byteLimit": 2048000,
      "rowLimit": 10000
     },
     "inputWidgets": {},
     "nuid": "92df67c9-3bb1-4331-b367-32ace60da11d",
     "showTitle": false,
     "tableResultSettingsMap": {},
     "title": ""
    }
   },
   "outputs": [],
   "source": [
    "USE CATALOG ${your_catalog};\n",
    "USE SCHEMA ${your_schema};"
   ]
  },
  {
   "cell_type": "markdown",
   "metadata": {
    "application/vnd.databricks.v1+cell": {
     "cellMetadata": {
      "byteLimit": 2048000,
      "rowLimit": 10000
     },
     "inputWidgets": {},
     "nuid": "f95b5f59-3813-4938-9909-e3119465abb8",
     "showTitle": false,
     "tableResultSettingsMap": {},
     "title": ""
    }
   },
   "source": [
    "**`CREATE TABLE AS SELECT`** ステートメントは、入力クエリから取得したデータを使用してDeltaテーブルを作成し、データを追加します。"
   ]
  },
  {
   "cell_type": "code",
   "execution_count": 0,
   "metadata": {
    "application/vnd.databricks.v1+cell": {
     "cellMetadata": {
      "byteLimit": 2048000,
      "rowLimit": 10000
     },
     "inputWidgets": {},
     "nuid": "33ec012b-183d-439e-a31e-8e0813b7e7b8",
     "showTitle": false,
     "tableResultSettingsMap": {},
     "title": ""
    }
   },
   "outputs": [],
   "source": [
    "CREATE OR REPLACE TABLE sales AS\n",
    "SELECT * FROM parquet.`${sample_dataset_path}/ecommerce/raw/sales-historical`;\n",
    "\n",
    "DESCRIBE EXTENDED sales;"
   ]
  },
  {
   "cell_type": "markdown",
   "metadata": {
    "application/vnd.databricks.v1+cell": {
     "cellMetadata": {
      "byteLimit": 2048000,
      "rowLimit": 10000
     },
     "inputWidgets": {},
     "nuid": "3459581c-13b7-4764-b580-9a7041e98aa4",
     "showTitle": false,
     "tableResultSettingsMap": {},
     "title": ""
    }
   },
   "source": [
    "CTASステートメントは、クエリの結果からスキーマ情報を自動的に推論し、手動でスキーマを宣言することは**サポートされていません**。\n",
    "\n",
    "これは、CTASステートメントがスキーマが明示的に定義されたソースからの外部データ取り込みに適していることを意味します。例えば、Parquetファイルやテーブルなどです。\n",
    "\n",
    "CTASステートメントはまた、追加のファイルオプションを指定することもサポートしていません。\n",
    "\n",
    "CSVファイルからデータを取り込む際に、これが大きな制約となることが想像できます。"
   ]
  },
  {
   "cell_type": "code",
   "execution_count": 0,
   "metadata": {
    "application/vnd.databricks.v1+cell": {
     "cellMetadata": {
      "byteLimit": 2048000,
      "rowLimit": 10000
     },
     "inputWidgets": {},
     "nuid": "7b3bb027-d470-485b-999c-d78310998f50",
     "showTitle": false,
     "tableResultSettingsMap": {},
     "title": ""
    }
   },
   "outputs": [],
   "source": [
    "CREATE OR REPLACE TABLE sales_unparsed AS\n",
    "SELECT * FROM csv.`${sample_dataset_path}/ecommerce/raw/sales-csv`;\n",
    "\n",
    "SELECT * FROM sales_unparsed LIMIT 10;"
   ]
  },
  {
   "cell_type": "markdown",
   "metadata": {
    "application/vnd.databricks.v1+cell": {
     "cellMetadata": {
      "byteLimit": 2048000,
      "rowLimit": 10000
     },
     "inputWidgets": {},
     "nuid": "b326b2e6-d02a-4a44-a724-2536f409c0d4",
     "showTitle": false,
     "tableResultSettingsMap": {},
     "title": ""
    }
   },
   "source": [
    "このデータを正しくDelta Lakeテーブルに取り込むために、オプションを指定できるファイルへの参照を使用する必要があります。\n",
    "\n",
    "前のレッスンでは、これを外部テーブルを登録することで行う方法を示しました。ここでは、この構文をわずかに進化させて、オプションを一時ビューに指定し、その後この一時ビューをCTASステートメントのソースとして使用してDeltaテーブルを正常に登録します。"
   ]
  },
  {
   "cell_type": "code",
   "execution_count": 0,
   "metadata": {
    "application/vnd.databricks.v1+cell": {
     "cellMetadata": {
      "byteLimit": 2048000,
      "rowLimit": 10000
     },
     "inputWidgets": {},
     "nuid": "3b83e389-075d-4000-9327-f68fdfe98dac",
     "showTitle": false,
     "tableResultSettingsMap": {},
     "title": ""
    }
   },
   "outputs": [],
   "source": [
    "CREATE OR REPLACE TEMP VIEW sales_tmp_vw\n",
    "  (order_id LONG, email STRING, transactions_timestamp LONG, total_item_quantity INTEGER, purchase_revenue_in_usd DOUBLE, unique_items INTEGER, items STRING)\n",
    "USING CSV\n",
    "OPTIONS (\n",
    "  path = \"${sample_dataset_path}/ecommerce/raw/sales-csv\",\n",
    "  header = \"true\",\n",
    "  delimiter = \"|\"\n",
    ");\n",
    "\n",
    "CREATE OR REPLACE TABLE sales_delta AS\n",
    "  SELECT * FROM sales_tmp_vw;\n",
    "  \n",
    "SELECT * FROM sales_delta LIMIT 10;"
   ]
  },
  {
   "cell_type": "markdown",
   "metadata": {
    "application/vnd.databricks.v1+cell": {
     "cellMetadata": {
      "byteLimit": 2048000,
      "rowLimit": 10000
     },
     "inputWidgets": {},
     "nuid": "84683a78-6ffe-4a9e-b1f9-251599fc992d",
     "showTitle": false,
     "tableResultSettingsMap": {},
     "title": ""
    }
   },
   "source": [
    "## 既存のテーブルから列をフィルタリングおよび名前変更\n",
    "\n",
    "列の名前を変更したり、対象のテーブルから列を省略したりするような簡単な変換は、テーブルの作成中に簡単に行うことができます。\n",
    "\n",
    "次のステートメントは、 **`sales`** テーブルからの列のサブセットを含む新しいテーブルを作成します。\n",
    "\n",
    "ここでは、意図的にユーザーを特定する可能性のある情報や個別の購入詳細を提供する情報を省略していると仮定します。また、下流のシステムがソースデータと異なる命名規則を持っていると仮定し、フィールド名を変更します。"
   ]
  },
  {
   "cell_type": "code",
   "execution_count": 0,
   "metadata": {
    "application/vnd.databricks.v1+cell": {
     "cellMetadata": {
      "byteLimit": 2048000,
      "rowLimit": 10000
     },
     "inputWidgets": {},
     "nuid": "b735c1ae-7b37-4364-ac97-df5886ec7c5e",
     "showTitle": false,
     "tableResultSettingsMap": {},
     "title": ""
    }
   },
   "outputs": [],
   "source": [
    "CREATE OR REPLACE TABLE purchases AS\n",
    "SELECT order_id AS id, transaction_timestamp, purchase_revenue_in_usd AS price\n",
    "FROM sales;\n",
    "\n",
    "SELECT * FROM purchases LIMIT 10;"
   ]
  },
  {
   "cell_type": "markdown",
   "metadata": {
    "application/vnd.databricks.v1+cell": {
     "cellMetadata": {
      "byteLimit": 2048000,
      "rowLimit": 10000
     },
     "inputWidgets": {},
     "nuid": "0194d65e-0241-4f03-a1cb-4ce3e8c0f5db",
     "showTitle": false,
     "tableResultSettingsMap": {},
     "title": ""
    }
   },
   "source": [
    "同じ目標をビューを使用して達成することもできることに注意してください。以下に示すように。"
   ]
  },
  {
   "cell_type": "code",
   "execution_count": 0,
   "metadata": {
    "application/vnd.databricks.v1+cell": {
     "cellMetadata": {
      "byteLimit": 2048000,
      "rowLimit": 10000
     },
     "inputWidgets": {},
     "nuid": "4ade3873-b70f-4736-9190-306e74c75677",
     "showTitle": false,
     "tableResultSettingsMap": {},
     "title": ""
    }
   },
   "outputs": [],
   "source": [
    "CREATE OR REPLACE VIEW purchases_vw AS\n",
    "SELECT order_id AS id, transaction_timestamp, purchase_revenue_in_usd AS price\n",
    "FROM sales;\n",
    "\n",
    "SELECT * FROM purchases_vw LIMIT 10;"
   ]
  },
  {
   "cell_type": "markdown",
   "metadata": {
    "application/vnd.databricks.v1+cell": {
     "cellMetadata": {
      "byteLimit": 2048000,
      "rowLimit": 10000
     },
     "inputWidgets": {},
     "nuid": "b76b67fe-930b-4f53-b985-22a6bdd20124",
     "showTitle": false,
     "tableResultSettingsMap": {},
     "title": ""
    }
   },
   "source": [
    "## 生成された列を使用したスキーマの宣言\n",
    "\n",
    "前述のように、CTASステートメントはスキーマの宣言をサポートしていません。上記で、タイムスタンプ列はUnixタイムスタンプのバリアントのようであり、アナリストが洞察を得るのに最も役立つ情報ではないようです。これは、生成された列が役立つ状況です。\n",
    "\n",
    "生成された列は、Deltaテーブル内の他の列に基づいて自動的に生成される値を持つ特別なタイプの列です（DBR 8.3で導入）。\n",
    "\n",
    "以下のコードは、新しいテーブルを作成しながら以下の操作を行います：\n",
    "1. 列名と型を指定する\n",
    "1. <a href=\"https://learn.microsoft.com/ja-jp/azure/databricks/delta/generated-columns\" target=\"_blank\">生成された列</a>を追加して日付を計算する\n",
    "1. 生成された列の説明的な列コメントを提供する"
   ]
  },
  {
   "cell_type": "code",
   "execution_count": 0,
   "metadata": {
    "application/vnd.databricks.v1+cell": {
     "cellMetadata": {
      "byteLimit": 2048000,
      "rowLimit": 10000
     },
     "inputWidgets": {},
     "nuid": "696cee91-ecf7-4baa-8cae-b53cb7880ece",
     "showTitle": false,
     "tableResultSettingsMap": {},
     "title": ""
    }
   },
   "outputs": [],
   "source": [
    "CREATE OR REPLACE TABLE purchase_dates (\n",
    "  id STRING, \n",
    "  transaction_timestamp STRING, \n",
    "  price STRING,\n",
    "  date DATE GENERATED ALWAYS AS (\n",
    "    cast(cast(transaction_timestamp/1e6 AS TIMESTAMP) AS DATE))\n",
    "    COMMENT \"generated based on `transactions_timestamp` column\")"
   ]
  },
  {
   "cell_type": "markdown",
   "metadata": {
    "application/vnd.databricks.v1+cell": {
     "cellMetadata": {
      "byteLimit": 2048000,
      "rowLimit": 10000
     },
     "inputWidgets": {},
     "nuid": "c3be0295-189b-48b3-9302-c6ae3cfe6039",
     "showTitle": false,
     "tableResultSettingsMap": {},
     "title": ""
    }
   },
   "source": [
    "**`date`** は生成された列であるため、 **`date`** 列の値を提供せずに **`purchase_dates`** に書き込む場合、Delta Lakeは自動的に計算します。\n",
    "\n",
    "★ WITH SCHEMA EVOLUTION によるスキーマの自動更新  \n",
    "https://learn.microsoft.com/ja-jp/azure/databricks/delta/update-schema\n",
    "\n",
    "**注意**: 以下のセルでは、Delta Lake **`MERGE`** ステートメントを使用する際に列を生成できるように設定を行っています。この構文については、コースの後半で詳しく説明します。"
   ]
  },
  {
   "cell_type": "code",
   "execution_count": 0,
   "metadata": {
    "application/vnd.databricks.v1+cell": {
     "cellMetadata": {
      "byteLimit": 2048000,
      "rowLimit": 10000
     },
     "inputWidgets": {},
     "nuid": "b5a5f270-8e34-4174-866d-33872100a742",
     "showTitle": false,
     "tableResultSettingsMap": {},
     "title": ""
    }
   },
   "outputs": [],
   "source": [
    "MERGE WITH SCHEMA EVOLUTION INTO purchase_dates a\n",
    "USING purchases b\n",
    "ON a.id = b.id\n",
    "WHEN NOT MATCHED THEN\n",
    "  INSERT *"
   ]
  },
  {
   "cell_type": "markdown",
   "metadata": {
    "application/vnd.databricks.v1+cell": {
     "cellMetadata": {
      "byteLimit": 2048000,
      "rowLimit": 10000
     },
     "inputWidgets": {},
     "nuid": "d4514125-bdb2-4351-a4ed-bf96bee18f6a",
     "showTitle": false,
     "tableResultSettingsMap": {},
     "title": ""
    }
   },
   "source": [
    "以下から、データが挿入されるにつれてすべての日付が正しく計算されたことがわかります。ただし、ソースデータや挿入クエリはこのフィールドの値を指定していません。\n",
    "\n",
    "Delta Lakeソースの場合、クエリは常にクエリのためのテーブルの最新のスナップショットを自動的に読み取ります。したがって、 **`REFRESH TABLE`** を実行する必要はありません。"
   ]
  },
  {
   "cell_type": "code",
   "execution_count": 0,
   "metadata": {
    "application/vnd.databricks.v1+cell": {
     "cellMetadata": {
      "byteLimit": 2048000,
      "rowLimit": 10000
     },
     "inputWidgets": {},
     "nuid": "4489f4f7-524b-4394-b3c7-99531ca74f0a",
     "showTitle": false,
     "tableResultSettingsMap": {},
     "title": ""
    }
   },
   "outputs": [],
   "source": [
    "SELECT * FROM purchase_dates LIMIT 10;"
   ]
  },
  {
   "cell_type": "markdown",
   "metadata": {
    "application/vnd.databricks.v1+cell": {
     "cellMetadata": {
      "byteLimit": 2048000,
      "rowLimit": 10000
     },
     "inputWidgets": {},
     "nuid": "406be810-83bc-43b5-b244-3bfba6c8ab82",
     "showTitle": false,
     "tableResultSettingsMap": {},
     "title": ""
    }
   },
   "source": [
    "重要なことは、生成されたフィールドであるはずのフィールドがテーブルへの挿入に含まれている場合、提供された値が生成された列を定義するロジックで導出される値と完全に一致しない場合、この挿入は失敗することです。\n",
    "\n",
    "以下のセルをコメント解除して実行することで、このエラーを確認できます。"
   ]
  },
  {
   "cell_type": "code",
   "execution_count": 0,
   "metadata": {
    "application/vnd.databricks.v1+cell": {
     "cellMetadata": {
      "byteLimit": 2048000,
      "rowLimit": 10000
     },
     "inputWidgets": {},
     "nuid": "9d59379f-73f6-4220-a432-7b8415bcb0b2",
     "showTitle": false,
     "tableResultSettingsMap": {},
     "title": ""
    }
   },
   "outputs": [],
   "source": [
    "-- INSERT INTO purchase_dates VALUES (1, 600000000, 42.0, \"2020-06-18\");"
   ]
  },
  {
   "cell_type": "code",
   "execution_count": 0,
   "metadata": {
    "application/vnd.databricks.v1+cell": {
     "cellMetadata": {
      "byteLimit": 2048000,
      "rowLimit": 10000
     },
     "inputWidgets": {},
     "nuid": "48841fea-ff1f-4b46-b0ab-54a2425b4023",
     "showTitle": false,
     "tableResultSettingsMap": {},
     "title": ""
    }
   },
   "outputs": [],
   "source": [
    "INSERT INTO purchase_dates VALUES (1, 1592237293397767, 1.0, cast(cast(1592237293397767/1e6 AS TIMESTAMP) AS DATE));"
   ]
  },
  {
   "cell_type": "markdown",
   "metadata": {
    "application/vnd.databricks.v1+cell": {
     "cellMetadata": {
      "byteLimit": 2048000,
      "rowLimit": 10000
     },
     "inputWidgets": {},
     "nuid": "67555830-5998-4989-8232-51e7100ef43f",
     "showTitle": false,
     "tableResultSettingsMap": {},
     "title": ""
    }
   },
   "source": [
    "## テーブル制約の追加\n",
    "\n",
    "上記のエラーメッセージは、 **`CHECK制約`** を指しています。生成された列は、チェック制約の特別な実装です。\n",
    "\n",
    "Delta Lakeはスキーマの書き込み時に強制するため、Databricksはテーブルに追加されるデータの品質と整合性を確保するための標準SQL制約管理節をサポートできます。\n",
    "\n",
    "Databricksは現在、2つのタイプの制約をサポートしています:\n",
    "* <a href=\"https://docs.databricks.com/delta/delta-constraints.html#not-null-constraint\" target=\"_blank\">**`NOT NULL`** 制約</a>\n",
    "* <a href=\"https://docs.databricks.com/delta/delta-constraints.html#check-constraint\" target=\"_blank\">**`CHECK`** 制約</a>\n",
    "\n",
    "どちらの場合も、制約を定義する前に、制約に違反するデータが既にテーブルに存在しないことを確認する必要があります。一度制約がテーブルに追加されると、制約に違反するデータは書き込みエラーを引き起こします。\n",
    "\n",
    "以下では、テーブルの **`date`** 列に **`CHECK`** 制約を追加します。 **`CHECK`** 制約は、データセットをフィルタリングするために使用するかもしれない標準の **`WHERE`** 句のように見えます。"
   ]
  },
  {
   "cell_type": "code",
   "execution_count": 0,
   "metadata": {
    "application/vnd.databricks.v1+cell": {
     "cellMetadata": {
      "byteLimit": 2048000,
      "rowLimit": 10000
     },
     "inputWidgets": {},
     "nuid": "2030e502-70a5-4805-99b6-0a44200e8c0c",
     "showTitle": false,
     "tableResultSettingsMap": {},
     "title": ""
    }
   },
   "outputs": [],
   "source": [
    "ALTER TABLE purchase_dates ADD CONSTRAINT valid_date CHECK (date > '2020-01-01');"
   ]
  },
  {
   "cell_type": "markdown",
   "metadata": {
    "application/vnd.databricks.v1+cell": {
     "cellMetadata": {
      "byteLimit": 2048000,
      "rowLimit": 10000
     },
     "inputWidgets": {},
     "nuid": "79b612b4-3d19-4a08-94bf-61b7c5855cf5",
     "showTitle": false,
     "tableResultSettingsMap": {},
     "title": ""
    }
   },
   "source": [
    "テーブル制約は、 **`TBLPROPERTIES`** フィールドに表示されます。"
   ]
  },
  {
   "cell_type": "code",
   "execution_count": 0,
   "metadata": {
    "application/vnd.databricks.v1+cell": {
     "cellMetadata": {
      "byteLimit": 2048000,
      "rowLimit": 10000
     },
     "inputWidgets": {},
     "nuid": "3c51ed1a-5e69-4b65-88f4-1277d29e811f",
     "showTitle": false,
     "tableResultSettingsMap": {},
     "title": ""
    }
   },
   "outputs": [],
   "source": [
    "DESCRIBE EXTENDED purchase_dates"
   ]
  },
  {
   "cell_type": "code",
   "execution_count": 0,
   "metadata": {
    "application/vnd.databricks.v1+cell": {
     "cellMetadata": {
      "byteLimit": 2048000,
      "rowLimit": 10000
     },
     "inputWidgets": {},
     "nuid": "c47b4be0-06af-4c6c-95c5-4dc32b579f08",
     "showTitle": false,
     "tableResultSettingsMap": {},
     "title": ""
    }
   },
   "outputs": [],
   "source": [
    "SELECT cast(cast(1572237293397767/1e6 AS TIMESTAMP) AS DATE);"
   ]
  },
  {
   "cell_type": "code",
   "execution_count": 0,
   "metadata": {
    "application/vnd.databricks.v1+cell": {
     "cellMetadata": {
      "byteLimit": 2048000,
      "rowLimit": 10000
     },
     "inputWidgets": {},
     "nuid": "e78ba2a3-e3a9-44c3-a847-7f9a8bd8d533",
     "showTitle": false,
     "tableResultSettingsMap": {},
     "title": ""
    }
   },
   "outputs": [],
   "source": [
    "-- INSERT INTO purchase_dates VALUES\n",
    "-- (2, 1572237293397767, 2.0, cast(cast(1572237293397767/1e6 AS TIMESTAMP) AS DATE))"
   ]
  },
  {
   "cell_type": "markdown",
   "metadata": {
    "application/vnd.databricks.v1+cell": {
     "cellMetadata": {
      "byteLimit": 2048000,
      "rowLimit": 10000
     },
     "inputWidgets": {},
     "nuid": "47ee2d25-fbc6-4460-8e25-35642a0ef4fa",
     "showTitle": false,
     "tableResultSettingsMap": {},
     "title": ""
    }
   },
   "source": [
    "## 付加的なオプションとメタデータを使用してテーブルを拡張\n",
    "\n",
    "これまで、Delta Lake テーブルを拡張するためのオプションについてほんの一部しか触れていません。\n",
    "\n",
    "以下では、CTAS ステートメントを進化させ、さまざまな追加の構成とメタデータを含める方法を示します。\n",
    "\n",
    "**`SELECT`** 句では、ファイルの取り込みに役立つ2つの組み込み Spark SQL コマンドを活用しています：\n",
    "* **`current_timestamp()`** は、ロジックが実行されたタイムスタンプを記録します\n",
    "* **`input_file_name()`** は、テーブル内の各レコードのソースデータファイルを記録します\n",
    "\n",
    "また、ソースのタイムスタンプデータから派生した新しい日付列を作成するロジックも含まれています。\n",
    "\n",
    "**`CREATE TABLE`** 句にはいくつかのオプションが含まれています：\n",
    "* テーブルの内容を簡単に見つけるために **`COMMENT`** が追加されています\n",
    "* **`LOCATION`** が指定されており、管理されていない（管理されていないではなく、外部の）テーブルになります\n",
    "* テーブルは日付列によって **`PARTITIONED BY`** されており、各日付のデータが対象のストレージ場所内の独自のディレクトリに存在することを意味します\n",
    "\n",
    "**注意**: パーティショニングは、主に構文と影響を示すためにここに示されています。ほとんどの Delta Lake テーブル（特に小～中規模のデータ）はパーティショニングの恩恵を受けません。パーティショニングはデータファイルを物理的に分離するため、小さなファイルの問題を引き起こし、ファイルの圧縮と効率的なデータのスキップを妨げる可能性があります。Hive または HDFS で観察されるメリットは Delta Lake には適用されず、テーブルをパーティション分割する前に経験豊富な Delta Lake アーキテクトと相談する必要があります。\n",
    "\n",
    "**ほとんどのユースケースでは、Delta Lake で作業する際には非パーティションテーブルをデフォルトで選択すべきです。**"
   ]
  },
  {
   "cell_type": "code",
   "execution_count": 0,
   "metadata": {
    "application/vnd.databricks.v1+cell": {
     "cellMetadata": {
      "byteLimit": 2048000,
      "rowLimit": 10000
     },
     "inputWidgets": {},
     "nuid": "71c69b9d-c150-4c55-b969-593c2062578b",
     "showTitle": false,
     "tableResultSettingsMap": {},
     "title": ""
    }
   },
   "outputs": [],
   "source": [
    "CREATE OR REPLACE TABLE users_pii\n",
    "COMMENT \"Contains PII\"\n",
    "AS\n",
    "  SELECT *, \n",
    "    cast(cast(user_first_touch_timestamp/1e6 AS TIMESTAMP) AS DATE) first_touch_date, \n",
    "    current_timestamp() updated,\n",
    "    input_file_name() source_file\n",
    "  FROM parquet.`${sample_dataset_path}/ecommerce/raw/users-historical/`;\n",
    "  \n",
    "SELECT * FROM users_pii LIMIT 10;"
   ]
  },
  {
   "cell_type": "code",
   "execution_count": 0,
   "metadata": {
    "application/vnd.databricks.v1+cell": {
     "cellMetadata": {
      "byteLimit": 2048000,
      "rowLimit": 10000
     },
     "inputWidgets": {},
     "nuid": "d384ee9b-df38-4f60-9d77-f9cfc5758f21",
     "showTitle": false,
     "tableResultSettingsMap": {},
     "title": ""
    }
   },
   "outputs": [],
   "source": [
    "SELECT COUNT(*) AS count, source_file FROM users_pii GROUP BY source_file"
   ]
  },
  {
   "cell_type": "markdown",
   "metadata": {
    "application/vnd.databricks.v1+cell": {
     "cellMetadata": {
      "byteLimit": 2048000,
      "rowLimit": 10000
     },
     "inputWidgets": {},
     "nuid": "f74dd8e7-9c1f-4eed-b3c1-8f9028f19f78",
     "showTitle": false,
     "tableResultSettingsMap": {},
     "title": ""
    }
   },
   "source": [
    "テーブルに追加されたメタデータフィールドは、レコードがいつ挿入されたか、どこから来たかを理解するのに役立つ情報を提供します。これは、ソースデータの問題をトラブルシューティングする必要がある場合に特に役立ちます。\n",
    "\n",
    "与えられたテーブルのすべてのコメントとプロパティは、 **`DESCRIBE TABLE EXTENDED`** を使用して確認できます。\n",
    "\n",
    "**注意**: Delta Lakeは、テーブル作成時に自動的にいくつかのテーブルプロパティを追加します。"
   ]
  },
  {
   "cell_type": "code",
   "execution_count": 0,
   "metadata": {
    "application/vnd.databricks.v1+cell": {
     "cellMetadata": {
      "byteLimit": 2048000,
      "rowLimit": 10000
     },
     "inputWidgets": {},
     "nuid": "b95ba0c2-2200-4ee9-9862-edc40c686bee",
     "showTitle": false,
     "tableResultSettingsMap": {},
     "title": ""
    }
   },
   "outputs": [],
   "source": [
    "DESCRIBE EXTENDED users_pii"
   ]
  },
  {
   "cell_type": "markdown",
   "metadata": {
    "application/vnd.databricks.v1+cell": {
     "cellMetadata": {
      "byteLimit": 2048000,
      "rowLimit": 10000
     },
     "inputWidgets": {},
     "nuid": "bd07bf31-3f5c-4666-9690-748dc169564d",
     "showTitle": false,
     "tableResultSettingsMap": {},
     "title": ""
    }
   },
   "source": [
    "## Delta Lakeテーブルのクローン\n",
    "Delta LakeにはDelta Lakeテーブルを効率的にコピーするための2つのオプションがあります。\n",
    "\n",
    "**`DEEP CLONE`** は、データとメタデータをソーステーブルからターゲットに完全にコピーします。\n",
    "このコピーは段階的に行われるため、このコマンドを再実行すると、ソースからターゲットの場所への変更が同期されます。"
   ]
  },
  {
   "cell_type": "code",
   "execution_count": 0,
   "metadata": {
    "application/vnd.databricks.v1+cell": {
     "cellMetadata": {
      "byteLimit": 2048000,
      "rowLimit": 10000
     },
     "inputWidgets": {},
     "nuid": "08396674-176b-43b9-8607-2e514b48bf76",
     "showTitle": false,
     "tableResultSettingsMap": {},
     "title": ""
    }
   },
   "outputs": [],
   "source": [
    "CREATE OR REPLACE TABLE purchases_clone DEEP CLONE purchases;"
   ]
  },
  {
   "cell_type": "markdown",
   "metadata": {
    "application/vnd.databricks.v1+cell": {
     "cellMetadata": {
      "byteLimit": 2048000,
      "rowLimit": 10000
     },
     "inputWidgets": {},
     "nuid": "418d2e9e-79b5-44b3-aeea-8811af64b313",
     "showTitle": false,
     "tableResultSettingsMap": {},
     "title": ""
    }
   },
   "source": [
    "すべてのデータファイルをコピーする必要があるため、大規模なデータセットにはかなりの時間がかかることがあります。\n",
    "\n",
    "現在のテーブルを変更せずに変更を適用してテストするためにテーブルのコピーを迅速に作成したい場合、 **`SHALLOW CLONE`** は良いオプションです。\n",
    "シャロークローンはDeltaトランザクションログだけをコピーするため、データは移動しません。"
   ]
  },
  {
   "cell_type": "code",
   "execution_count": 0,
   "metadata": {
    "application/vnd.databricks.v1+cell": {
     "cellMetadata": {
      "byteLimit": 2048000,
      "rowLimit": 10000
     },
     "inputWidgets": {},
     "nuid": "1fc4ebe2-f833-4c6d-a95b-86cc8821d50c",
     "showTitle": false,
     "tableResultSettingsMap": {},
     "title": ""
    }
   },
   "outputs": [],
   "source": [
    "CREATE OR REPLACE TABLE purchases_shallow_clone SHALLOW CLONE purchases;"
   ]
  },
  {
   "cell_type": "markdown",
   "metadata": {
    "application/vnd.databricks.v1+cell": {
     "cellMetadata": {
      "byteLimit": 2048000,
      "rowLimit": 10000
     },
     "inputWidgets": {},
     "nuid": "c9772872-b675-4ec6-ae32-fbefae4da189",
     "showTitle": false,
     "tableResultSettingsMap": {},
     "title": ""
    }
   },
   "source": [
    "どちらの場合でも、テーブルのクローンに適用されるデータの変更は、ソースから別個に追跡および保存されます。 クローンは、開発中のSQLコードのテスト用にテーブルをセットアップする素晴らしい方法です。"
   ]
  },
  {
   "cell_type": "markdown",
   "metadata": {
    "application/vnd.databricks.v1+cell": {
     "cellMetadata": {
      "byteLimit": 2048000,
      "rowLimit": 10000
     },
     "inputWidgets": {},
     "nuid": "86a29944-15b8-4889-ba3f-314ae788e624",
     "showTitle": false,
     "tableResultSettingsMap": {},
     "title": ""
    }
   },
   "source": [
    "★ 時間あればもう少しクローンを説明する  \n",
    "https://adb-1450470117424213.13.azuredatabricks.net/editor/notebooks/1625313471164596?o=1450470117424213#command/6519521898549652"
   ]
  },
  {
   "cell_type": "markdown",
   "metadata": {
    "application/vnd.databricks.v1+cell": {
     "cellMetadata": {
      "byteLimit": 2048000,
      "rowLimit": 10000
     },
     "inputWidgets": {},
     "nuid": "f0ed735f-cbe1-4a3d-bbaa-1e9d01bf9888",
     "showTitle": false,
     "tableResultSettingsMap": {},
     "title": ""
    }
   },
   "source": [
    "# Delta Lakeへのデータの読み込み\n",
    "Delta Lakeテーブルは、クラウドオブジェクトストレージでバックアップされたデータファイルを持つテーブルにACID準拠の更新を提供します。\n",
    "\n",
    "このノートブックでは、Delta Lakeで更新を処理するためのSQL構文を探求します。多くの操作は標準のSQLですが、SparkとDelta Lakeの実行に合わせてわずかな変更があります。\n",
    "\n",
    "## 学習目標\n",
    "このレッスンの最後までに、次のことができるようになるはずです：\n",
    "- **`INSERT OVERWRITE`** を使用してデータテーブルを上書きする\n",
    "- **`INSERT INTO`** を使用してテーブルに追加する\n",
    "- **`MERGE INTO`** を使用してテーブルに追加、更新、削除を行う\n",
    "- **`COPY INTO`** を使用してテーブルにデータを増分的に読み込む"
   ]
  },
  {
   "cell_type": "markdown",
   "metadata": {
    "application/vnd.databricks.v1+cell": {
     "cellMetadata": {
      "byteLimit": 2048000,
      "rowLimit": 10000
     },
     "inputWidgets": {},
     "nuid": "80b9cfbe-a338-45bd-a9d0-e02323305d1f",
     "showTitle": false,
     "tableResultSettingsMap": {},
     "title": ""
    }
   },
   "source": [
    "## 完全な上書き\n",
    "\n",
    "テーブル内のすべてのデータを原子的に置き換えるために上書きを使用できます。テーブルを削除して再作成する代わりにテーブルを上書きすることには、複数の利点があります：\n",
    "- テーブルを上書きする方がはるかに高速です。ディレクトリを再帰的にリストアップしたり、ファイルを削除したりする必要がないためです。\n",
    "- テーブルの古いバージョンはまだ存在し、タイムトラベルを使用して簡単に古いデータを取得できます。\n",
    "- これは原子操作です。テーブルを削除している間でも、同時クエリはテーブルを読み取ることができます。\n",
    "- ACIDトランザクションの保証により、テーブルの上書きに失敗した場合、テーブルは以前の状態になります。\n",
    "\n",
    "Spark SQLは完全な上書きを実行するための2つの簡単な方法を提供しています。\n",
    "\n",
    "前のレッスンでCTASステートメントについて学んだ学生の中には、実際にはCRASステートメントを使用したことに気付いたかもしれません（セルが複数回実行された場合の潜在的なエラーを回避するためです）。\n",
    "\n",
    "**`CREATE OR REPLACE TABLE`** （CRAS）ステートメントは、実行ごとにテーブルの内容を完全に置き換えます。"
   ]
  },
  {
   "cell_type": "code",
   "execution_count": 0,
   "metadata": {
    "application/vnd.databricks.v1+cell": {
     "cellMetadata": {
      "byteLimit": 2048000,
      "rowLimit": 10000
     },
     "inputWidgets": {},
     "nuid": "9bedfe98-f4b7-46b5-a7e3-e376d9c60ba0",
     "showTitle": false,
     "tableResultSettingsMap": {},
     "title": ""
    }
   },
   "outputs": [],
   "source": [
    "CREATE OR REPLACE TABLE events AS\n",
    "SELECT * FROM parquet.`${sample_dataset_path}/ecommerce/raw/events-historical`;\n",
    "\n",
    "SELECT count(*) FROM events;"
   ]
  },
  {
   "cell_type": "markdown",
   "metadata": {
    "application/vnd.databricks.v1+cell": {
     "cellMetadata": {
      "byteLimit": 2048000,
      "rowLimit": 10000
     },
     "inputWidgets": {},
     "nuid": "bb0a461b-030a-4e57-9b76-a6e8af6ff903",
     "showTitle": false,
     "tableResultSettingsMap": {},
     "title": ""
    }
   },
   "source": [
    "**`INSERT OVERWRITE`** は、上記とほぼ同じ結果を提供します：ターゲットテーブル内のデータはクエリからのデータで置き換えられます。\n",
    "\n",
    "**`INSERT OVERWRITE`**：\n",
    "\n",
    "- 既存のテーブルを上書きすることしかできず、CRASステートメントのように新しいテーブルを作成することはできません\n",
    "- 現在のテーブルスキーマに一致する新しいレコードでのみ上書きでき、したがって、下流の消費者を中断せずに既存のテーブルを上書きする「安全な」テクニックとなります\n",
    "- 個々のパーティションを上書きできます"
   ]
  },
  {
   "cell_type": "code",
   "execution_count": 0,
   "metadata": {
    "application/vnd.databricks.v1+cell": {
     "cellMetadata": {
      "byteLimit": 2048000,
      "rowLimit": 10000
     },
     "inputWidgets": {},
     "nuid": "6d961a1b-de47-4269-82f7-af809f97e786",
     "showTitle": false,
     "tableResultSettingsMap": {},
     "title": ""
    }
   },
   "outputs": [],
   "source": [
    "INSERT OVERWRITE events SELECT * FROM parquet.`${sample_dataset_path}/ecommerce/raw/events-historical`;\n",
    "\n",
    "SELECT count(*) FROM events;"
   ]
  },
  {
   "cell_type": "markdown",
   "metadata": {
    "application/vnd.databricks.v1+cell": {
     "cellMetadata": {
      "byteLimit": 2048000,
      "rowLimit": 10000
     },
     "inputWidgets": {},
     "nuid": "e5370fb5-ded9-4de2-a917-8775e92011f5",
     "showTitle": false,
     "tableResultSettingsMap": {},
     "title": ""
    }
   },
   "source": [
    "テーブルの履歴を確認すると、以前のバージョンのこのテーブルが置き換えられたことがわかります。  \n",
    "CRASステートメントとは異なるメトリクスが表示されることに注意してください。また、テーブルの履歴も操作を異なる方法で記録します。  "
   ]
  },
  {
   "cell_type": "code",
   "execution_count": 0,
   "metadata": {
    "application/vnd.databricks.v1+cell": {
     "cellMetadata": {
      "byteLimit": 2048000,
      "rowLimit": 10000
     },
     "inputWidgets": {},
     "nuid": "9f69fb39-b226-4ef1-ba69-f38fddacf832",
     "showTitle": false,
     "tableResultSettingsMap": {},
     "title": ""
    }
   },
   "outputs": [],
   "source": [
    "DESCRIBE HISTORY events"
   ]
  },
  {
   "cell_type": "markdown",
   "metadata": {
    "application/vnd.databricks.v1+cell": {
     "cellMetadata": {
      "byteLimit": 2048000,
      "rowLimit": 10000
     },
     "inputWidgets": {},
     "nuid": "9be0b1fa-b8f2-4644-97e3-f63425dea3ff",
     "showTitle": false,
     "tableResultSettingsMap": {},
     "title": ""
    }
   },
   "source": [
    "## 行の追加\n",
    "\n",
    "**`INSERT INTO`** を使用して、既存のDeltaテーブルに新しい行を原子的に追加できます。これにより、毎回上書きするよりも効率的な既存のテーブルへの増分更新が可能になります。\n",
    "\n",
    "**`INSERT INTO`** を使用して、**`sales`** テーブルに新しい販売レコードを追加します。"
   ]
  },
  {
   "cell_type": "code",
   "execution_count": 0,
   "metadata": {
    "application/vnd.databricks.v1+cell": {
     "cellMetadata": {
      "byteLimit": 2048000,
      "rowLimit": 10000
     },
     "inputWidgets": {},
     "nuid": "790174c8-e74a-46c0-a819-859f2190d42c",
     "showTitle": false,
     "tableResultSettingsMap": {},
     "title": ""
    }
   },
   "outputs": [],
   "source": [
    "CREATE OR REPLACE TABLE sales AS\n",
    "  SELECT * FROM parquet.`${sample_dataset_path}/ecommerce/raw/sales-historical`;\n",
    "\n",
    "SELECT count(*), _metadata.file_path FROM sales GROUP BY _metadata.file_path;"
   ]
  },
  {
   "cell_type": "code",
   "execution_count": 0,
   "metadata": {
    "application/vnd.databricks.v1+cell": {
     "cellMetadata": {
      "byteLimit": 2048000,
      "rowLimit": 10000
     },
     "inputWidgets": {},
     "nuid": "c4ddd59a-15bf-4b74-8e62-8e215bc265a2",
     "showTitle": false,
     "tableResultSettingsMap": {},
     "title": ""
    }
   },
   "outputs": [],
   "source": [
    "INSERT INTO sales SELECT * FROM parquet.`${sample_dataset_path}/ecommerce/raw/sales-30m`;\n",
    "\n",
    "SELECT count(*), _metadata.file_path FROM sales GROUP BY _metadata.file_path;"
   ]
  },
  {
   "cell_type": "markdown",
   "metadata": {
    "application/vnd.databricks.v1+cell": {
     "cellMetadata": {
      "byteLimit": 2048000,
      "rowLimit": 10000
     },
     "inputWidgets": {},
     "nuid": "a16ae9d4-ae2c-4855-80aa-44a283a43dcd",
     "showTitle": false,
     "tableResultSettingsMap": {},
     "title": ""
    }
   },
   "source": [
    "**`INSERT INTO`** には、同じレコードを複数回挿入するのを防ぐための組み込みの保証がないことに注意してください。上記のセルを再実行すると、同じレコードがターゲットテーブルに書き込まれ、重複したレコードが生成されます。"
   ]
  },
  {
   "cell_type": "code",
   "execution_count": 0,
   "metadata": {
    "application/vnd.databricks.v1+cell": {
     "cellMetadata": {
      "byteLimit": 2048000,
      "rowLimit": 10000
     },
     "inputWidgets": {},
     "nuid": "9f334738-9676-467d-a6c4-ffe326d2366c",
     "showTitle": false,
     "tableResultSettingsMap": {},
     "title": ""
    }
   },
   "outputs": [],
   "source": [
    "INSERT INTO sales SELECT * FROM parquet.`${sample_dataset_path}/ecommerce/raw/sales-30m`;\n",
    "\n",
    "SELECT count(*), _metadata.file_path FROM sales GROUP BY _metadata.file_path;"
   ]
  },
  {
   "cell_type": "markdown",
   "metadata": {
    "application/vnd.databricks.v1+cell": {
     "cellMetadata": {
      "byteLimit": 2048000,
      "rowLimit": 10000
     },
     "inputWidgets": {},
     "nuid": "16768122-9138-4418-83c5-e59484977e82",
     "showTitle": false,
     "tableResultSettingsMap": {},
     "title": ""
    }
   },
   "source": [
    "## 増分的な読み込み\n",
    "\n",
    "**`COPY INTO`** はSQLエンジニアに対して外部システムからデータを増分的に読み込むための冪等性のあるオプションを提供します。\n",
    "\n",
    "この操作にはいくつかの期待があることに注意してください：\n",
    "- データスキーマは一貫している必要があります\n",
    "- 重複するレコードは排除または下流で処理する必要があります\n",
    "\n",
    "この操作は、予測可能に成長するデータに対して完全なテーブルスキャンよりもはるかに安価かもしれません。\n",
    "\n",
    "ここでは静的なディレクトリでの単純な実行を示しますが、実際の価値は時間をかけて複数回実行し、ソースから新しいファイルを自動的に収集することにあります。"
   ]
  },
  {
   "cell_type": "code",
   "execution_count": 0,
   "metadata": {
    "application/vnd.databricks.v1+cell": {
     "cellMetadata": {
      "byteLimit": 2048000,
      "rowLimit": 10000
     },
     "inputWidgets": {},
     "nuid": "ed93bde7-1dd2-40f3-a26e-9e9c659f7a96",
     "showTitle": false,
     "tableResultSettingsMap": {},
     "title": ""
    }
   },
   "outputs": [],
   "source": [
    "CREATE OR REPLACE TABLE sales AS\n",
    "  SELECT * FROM parquet.`${sample_dataset_path}/ecommerce/raw/sales-historical`;\n",
    "\n",
    "SELECT count(*), _metadata.file_path FROM sales GROUP BY _metadata.file_path;"
   ]
  },
  {
   "cell_type": "code",
   "execution_count": 0,
   "metadata": {
    "application/vnd.databricks.v1+cell": {
     "cellMetadata": {
      "byteLimit": 2048000,
      "rowLimit": 10000
     },
     "inputWidgets": {},
     "nuid": "f2f262f7-988a-44c0-b8de-332a58bbc7a8",
     "showTitle": false,
     "tableResultSettingsMap": {},
     "title": ""
    }
   },
   "outputs": [],
   "source": [
    "COPY INTO sales FROM \"${sample_dataset_path}/ecommerce/raw/sales-30m\" FILEFORMAT = PARQUET;\n",
    "\n",
    "SELECT count(*), _metadata.file_path FROM sales GROUP BY _metadata.file_path;"
   ]
  },
  {
   "cell_type": "markdown",
   "metadata": {
    "application/vnd.databricks.v1+cell": {
     "cellMetadata": {
      "byteLimit": 2048000,
      "rowLimit": 10000
     },
     "inputWidgets": {},
     "nuid": "d4d996c3-51f3-4b94-aec2-6fc3eb520f91",
     "showTitle": false,
     "tableResultSettingsMap": {},
     "title": ""
    }
   },
   "source": [
    "Databricks の COPY INTO コマンドの冪等性は、以下の方法で保証されています。\n",
    "\n",
    "**ファイルの追跡**: COPY INTO コマンドは、入力ファイルの詳細を Delta テーブルのログディレクトリ内に保存します。この情報は RocksDB というキー・バリュー・ストアに格納されます。  \n",
    "**重複除去ロジック**: 次回 COPY INTO コマンドが同じテーブルに対して実行されると、まず RocksDB からデータが読み込まれ、入力ファイルと比較されます。この比較により、既にロードされたファイルはスキップされます。  \n",
    "**強制オプション**: COPY_OPTIONS の force パラメータを true に設定すると、冪等性が無効化され、以前にロードされたファイルも再度ロードされます。  \n",
    "\n",
    "このようにして、COPY INTO コマンドは同じデータを複数回ロードしても重複しないように設計されています。\n",
    "\n",
    "https://community.databricks.com/t5/machine-learning/how-is-idempotency-ensured-for-copy-into-command/td-p/19795"
   ]
  },
  {
   "cell_type": "code",
   "execution_count": 0,
   "metadata": {
    "application/vnd.databricks.v1+cell": {
     "cellMetadata": {
      "byteLimit": 2048000,
      "rowLimit": 10000
     },
     "inputWidgets": {},
     "nuid": "d9fb58cc-efc9-4008-ad2c-e13b77b9d63f",
     "showTitle": false,
     "tableResultSettingsMap": {},
     "title": ""
    }
   },
   "outputs": [],
   "source": [
    "COPY INTO sales FROM \"${sample_dataset_path}/ecommerce/raw/sales-30m\" FILEFORMAT = PARQUET;\n",
    "\n",
    "SELECT count(*), _metadata.file_path FROM sales GROUP BY _metadata.file_path;"
   ]
  },
  {
   "cell_type": "markdown",
   "metadata": {
    "application/vnd.databricks.v1+cell": {
     "cellMetadata": {
      "byteLimit": 2048000,
      "rowLimit": 10000
     },
     "inputWidgets": {},
     "nuid": "a7a90a3e-273b-4601-8c8a-515cef1ae71c",
     "showTitle": false,
     "tableResultSettingsMap": {},
     "title": ""
    }
   },
   "source": [
    "## マージ更新\n",
    "\n",
    "**`MERGE`** SQL操作を使用して、ソーステーブル、ビュー、またはDataFrameからターゲットDeltaテーブルにデータをアップサートできます。 Delta Lakeは **`MERGE`** での挿入、更新、削除をサポートし、高度なユースケースを簡素化するためのSQL標準を超えた拡張構文をサポートしています。\n",
    "\n",
    "<strong><code>\n",
    "MERGE INTO target a<br/>\n",
    "USING source b<br/>\n",
    "ON {merge_condition}<br/>\n",
    "WHEN MATCHED THEN {matched_action}<br/>\n",
    "WHEN NOT MATCHED THEN {not_matched_action}<br/>\n",
    "</code></strong>\n",
    "\n",
    "私たちは**`MERGE`**操作を使用して、更新されたメールアドレスと新しいユーザーを持つ過去のユーザーデータを更新します。\n"
   ]
  },
  {
   "cell_type": "code",
   "execution_count": 0,
   "metadata": {
    "application/vnd.databricks.v1+cell": {
     "cellMetadata": {
      "byteLimit": 2048000,
      "rowLimit": 10000
     },
     "inputWidgets": {},
     "nuid": "ac616d28-a86c-47cf-8e5a-4a7d593b2b0c",
     "showTitle": false,
     "tableResultSettingsMap": {},
     "title": ""
    }
   },
   "outputs": [],
   "source": [
    "CREATE OR REPLACE TEMP VIEW users_update \n",
    "AS \n",
    "  SELECT *,\n",
    "    cast(cast(user_first_touch_timestamp/1e6 AS TIMESTAMP) AS DATE) first_touch_date, \n",
    "    current_timestamp() AS updated,\n",
    "    input_file_name() source_file\n",
    "  FROM parquet.`${sample_dataset_path}/ecommerce/raw/users-30m`;\n",
    "\n",
    "SELECT count(*) FROM users_update;"
   ]
  },
  {
   "cell_type": "markdown",
   "metadata": {
    "application/vnd.databricks.v1+cell": {
     "cellMetadata": {
      "byteLimit": 2048000,
      "rowLimit": 10000
     },
     "inputWidgets": {},
     "nuid": "68bb7343-9e95-40bc-b7c3-256cc5858edd",
     "showTitle": false,
     "tableResultSettingsMap": {},
     "title": ""
    }
   },
   "source": [
    "**`MERGE`** の主な利点：\n",
    "* 更新、挿入、削除が1つのトランザクションとして完了します\n",
    "* マッチングフィールドに加えて複数の条件を追加できます\n",
    "* カスタムロジックを実装するための幅広いオプションを提供します\n",
    "\n",
    "以下では、現在の行の**`NULL`**のメールアドレスと新しい行がメールアドレスを持っている場合にのみレコードを更新します。\n",
    "\n",
    "新しいバッチのすべてのマッチしないレコードは挿入されます。"
   ]
  },
  {
   "cell_type": "code",
   "execution_count": 0,
   "metadata": {
    "application/vnd.databricks.v1+cell": {
     "cellMetadata": {
      "byteLimit": 2048000,
      "rowLimit": 10000
     },
     "inputWidgets": {},
     "nuid": "07e9b555-cb75-4946-8e82-560fae7c17e8",
     "showTitle": false,
     "tableResultSettingsMap": {},
     "title": ""
    }
   },
   "outputs": [],
   "source": [
    "MERGE INTO users_pii a\n",
    "USING users_update b\n",
    "ON a.user_id = b.user_id\n",
    "WHEN MATCHED AND a.email IS NULL AND b.email IS NOT NULL THEN\n",
    "  UPDATE SET email = b.email, updated = b.updated\n",
    "WHEN NOT MATCHED THEN\n",
    "  INSERT *"
   ]
  },
  {
   "cell_type": "code",
   "execution_count": 0,
   "metadata": {
    "application/vnd.databricks.v1+cell": {
     "cellMetadata": {
      "byteLimit": 2048000,
      "rowLimit": 10000
     },
     "inputWidgets": {},
     "nuid": "bceea797-5a2a-40a8-a1d6-890f42a27f05",
     "showTitle": false,
     "tableResultSettingsMap": {},
     "title": ""
    }
   },
   "outputs": [],
   "source": [
    "SELECT COUNT(*) AS count, source_file FROM users_pii GROUP BY source_file"
   ]
  },
  {
   "cell_type": "markdown",
   "metadata": {
    "application/vnd.databricks.v1+cell": {
     "cellMetadata": {
      "byteLimit": 2048000,
      "rowLimit": 10000
     },
     "inputWidgets": {},
     "nuid": "1aec5169-ee79-49d7-8c56-1f9ed84c9a49",
     "showTitle": false,
     "tableResultSettingsMap": {},
     "title": ""
    }
   },
   "source": [
    "この関数の動作を **`MATCHED`** および **`NOT MATCHED`** の両条件に対して明示的に指定しています。ここで示されている例は適用できるロジックの一例であり、 **`MERGE`** のすべての動作を示すものではありません。"
   ]
  }
 ],
 "metadata": {
  "application/vnd.databricks.v1+notebook": {
   "computePreferences": null,
   "dashboards": [],
   "environmentMetadata": {
    "base_environment": "",
    "environment_version": "1"
   },
   "language": "sql",
   "notebookMetadata": {
    "mostRecentlyExecutedCommandWithImplicitDF": {
     "commandId": -1,
     "dataframes": [
      "_sqldf"
     ]
    },
    "pythonIndentUnit": 4
   },
   "notebookName": "03_Delta_Lake",
   "widgets": {
    "sample_dataset_path": {
     "currentValue": "/Volumes/o9o9dbw/handson_tico_demo01_schema/sample_dataset_volume",
     "nuid": "e7f956f5-b43a-4d68-bf5d-0376e16ed3e5",
     "typedWidgetInfo": {
      "autoCreated": false,
      "defaultValue": "/Volumes/o9o9dbw/handson_tico_demo01_schema/sample_dataset_volume",
      "label": null,
      "name": "sample_dataset_path",
      "options": {
       "widgetDisplayType": "Text",
       "validationRegex": null
      },
      "parameterDataType": "String"
     },
     "widgetInfo": {
      "widgetType": "text",
      "defaultValue": "/Volumes/o9o9dbw/handson_tico_demo01_schema/sample_dataset_volume",
      "label": null,
      "name": "sample_dataset_path",
      "options": {
       "widgetType": "text",
       "autoCreated": null,
       "validationRegex": null
      }
     }
    },
    "your_catalog": {
     "currentValue": "o9o9dbw",
     "nuid": "883d61b7-91a1-43ea-bcd1-d7e78ba22b7d",
     "typedWidgetInfo": {
      "autoCreated": false,
      "defaultValue": "o9o9dbw",
      "label": null,
      "name": "your_catalog",
      "options": {
       "widgetDisplayType": "Text",
       "validationRegex": null
      },
      "parameterDataType": "String"
     },
     "widgetInfo": {
      "widgetType": "text",
      "defaultValue": "o9o9dbw",
      "label": null,
      "name": "your_catalog",
      "options": {
       "widgetType": "text",
       "autoCreated": null,
       "validationRegex": null
      }
     }
    },
    "your_schema": {
     "currentValue": "handson_tico_demo01_schema",
     "nuid": "7aa99a03-52d9-4858-8763-2fde4b777626",
     "typedWidgetInfo": {
      "autoCreated": false,
      "defaultValue": "handson_tico_demo01_schema",
      "label": null,
      "name": "your_schema",
      "options": {
       "widgetDisplayType": "Text",
       "validationRegex": null
      },
      "parameterDataType": "String"
     },
     "widgetInfo": {
      "widgetType": "text",
      "defaultValue": "handson_tico_demo01_schema",
      "label": null,
      "name": "your_schema",
      "options": {
       "widgetType": "text",
       "autoCreated": null,
       "validationRegex": null
      }
     }
    }
   }
  },
  "language_info": {
   "name": "sql"
  }
 },
 "nbformat": 4,
 "nbformat_minor": 0
}
